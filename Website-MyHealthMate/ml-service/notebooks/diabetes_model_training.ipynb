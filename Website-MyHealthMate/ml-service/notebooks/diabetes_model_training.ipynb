{
 "cells": [
  {
   "cell_type": "markdown",
   "id": "f4ebefe6",
   "metadata": {},
   "source": [
    "# 🏥 Diabetes Prediction Model Training Pipeline\n",
    "## Mục tiêu:\n",
    "- Huấn luyện nhiều mô hình ML khác nhau\n",
    "- So sánh hiệu suất của các mô hình\n",
    "- Tối ưu hóa hyperparameters\n",
    "- Chọn ra mô hình tốt nhất cho production\n",
    "\n",
    "## Dataset:\n",
    "Sử dụng Pima Indians Diabetes Dataset với 8 features chính:\n",
    "- **Pregnancies**: Số lần mang thai\n",
    "- **Glucose**: Nồng độ glucose trong máu\n",
    "- **BloodPressure**: Huyết áp tâm trương\n",
    "- **SkinThickness**: Độ dày nếp gấp da cánh tay\n",
    "- **Insulin**: Nồng độ insulin trong máu\n",
    "- **BMI**: Chỉ số khối cơ thể\n",
    "- **DiabetesPedigreeFunction**: Hàm di truyền tiểu đường\n",
    "- **Age**: Tuổi\n",
    "\n",
    "**Target**: Outcome (0: Không mắc tiểu đường, 1: Mắc tiểu đường)"
   ]
  },
  {
   "cell_type": "markdown",
   "id": "ef30b77c",
   "metadata": {},
   "source": [
    "## 1. Import Required Libraries\n",
    "\n",
    "Import tất cả các thư viện cần thiết cho machine learning pipeline"
   ]
  },
  {
   "cell_type": "code",
   "execution_count": 1,
   "id": "593535c5",
   "metadata": {},
   "outputs": [
    {
     "name": "stdout",
     "output_type": "stream",
     "text": [
      "✅ XGBoost available\n",
      "✅ LightGBM available\n",
      "✅ CatBoost available\n",
      "✅ Imbalanced-learn available\n",
      "📦 All libraries imported successfully!\n",
      "📊 Using pandas: 2.3.3\n",
      "🔢 Using numpy: 2.3.4\n",
      "\n"
     ]
    }
   ],
   "source": [
    "# Data manipulation and analysis\n",
    "import pandas as pd\n",
    "import numpy as np\n",
    "import warnings\n",
    "warnings.filterwarnings('ignore')\n",
    "\n",
    "# Visualization libraries\n",
    "import matplotlib.pyplot as plt\n",
    "import seaborn as sns\n",
    "import plotly.express as px\n",
    "import plotly.graph_objects as go\n",
    "from plotly.subplots import make_subplots\n",
    "\n",
    "# Scikit-learn libraries\n",
    "from sklearn.model_selection import (\n",
    "    train_test_split, cross_val_score, GridSearchCV, \n",
    "    RandomizedSearchCV, StratifiedKFold\n",
    ")\n",
    "from sklearn.preprocessing import StandardScaler, RobustScaler, MinMaxScaler\n",
    "from sklearn.metrics import (\n",
    "    accuracy_score, precision_score, recall_score, f1_score,\n",
    "    roc_auc_score, confusion_matrix, classification_report,\n",
    "    roc_curve, precision_recall_curve, average_precision_score\n",
    ")\n",
    "\n",
    "# Machine Learning Models\n",
    "from sklearn.linear_model import LogisticRegression\n",
    "from sklearn.ensemble import (\n",
    "    RandomForestClassifier, GradientBoostingClassifier, \n",
    "    AdaBoostClassifier, ExtraTreesClassifier\n",
    ")\n",
    "from sklearn.svm import SVC\n",
    "from sklearn.neighbors import KNeighborsClassifier\n",
    "from sklearn.naive_bayes import GaussianNB\n",
    "from sklearn.tree import DecisionTreeClassifier\n",
    "from sklearn.neural_network import MLPClassifier\n",
    "\n",
    "# Advanced ML libraries (cài đặt nếu cần: pip install xgboost lightgbm catboost)\n",
    "try:\n",
    "    import xgboost as xgb\n",
    "    print(\"✅ XGBoost available\")\n",
    "except ImportError:\n",
    "    print(\"⚠️ XGBoost not available. Install: pip install xgboost\")\n",
    "    xgb = None\n",
    "\n",
    "try:\n",
    "    import lightgbm as lgb\n",
    "    print(\"✅ LightGBM available\")\n",
    "except ImportError:\n",
    "    print(\"⚠️ LightGBM not available. Install: pip install lightgbm\")\n",
    "    lgb = None\n",
    "\n",
    "try:\n",
    "    from catboost import CatBoostClassifier\n",
    "    print(\"✅ CatBoost available\")\n",
    "except ImportError:\n",
    "    print(\"⚠️ CatBoost not available. Install: pip install catboost\")\n",
    "    CatBoostClassifier = None\n",
    "\n",
    "# Imbalanced learning (cài đặt nếu cần: pip install imbalanced-learn)\n",
    "try:\n",
    "    from imblearn.over_sampling import SMOTE, ADASYN\n",
    "    from imblearn.under_sampling import RandomUnderSampler\n",
    "    from imblearn.combine import SMOTEENN\n",
    "    print(\"✅ Imbalanced-learn available\")\n",
    "except ImportError:\n",
    "    print(\"⚠️ Imbalanced-learn not available. Install: pip install imbalanced-learn\")\n",
    "    SMOTE = ADASYN = RandomUnderSampler = SMOTEENN = None\n",
    "\n",
    "# Utility libraries\n",
    "import joblib\n",
    "from datetime import datetime\n",
    "import os\n",
    "\n",
    "# Set plotting style\n",
    "plt.style.use('seaborn-v0_8')\n",
    "sns.set_palette(\"husl\")\n",
    "\n",
    "print(\"📦 All libraries imported successfully!\")\n",
    "print(f\"📊 Using pandas: {pd.__version__}\")\n",
    "print(f\"🔢 Using numpy: {np.__version__}\")\n",
    "print(f\"🤖 Using scikit-learn: {sklearn.__version__}\" if 'sklearn' in locals() else \"\")"
   ]
  },
  {
   "cell_type": "markdown",
   "id": "85a65202",
   "metadata": {},
   "source": [
    "## 2. Load and Explore Cleaned Dataset\n",
    "\n",
    "Load dữ liệu đã được làm sạch và thực hiện phân tích khám phá (EDA) để hiểu rõ về dataset"
   ]
  },
  {
   "cell_type": "code",
   "execution_count": 2,
   "id": "f92ea70d",
   "metadata": {},
   "outputs": [
    {
     "name": "stdout",
     "output_type": "stream",
     "text": [
      "📂 Loading Pima Indians Diabetes Dataset...\n",
      "==================================================\n",
      "✅ Successfully loaded data from ../data/pima_clean.csv\n",
      "\n",
      "📊 Dataset Info:\n",
      "Shape: (768, 9)\n",
      "Rows: 768\n",
      "Columns: 9\n",
      "\n",
      "📋 Column Names:\n",
      "['Pregnancies', 'Glucose', 'BloodPressure', 'SkinThickness', 'Insulin', 'BMI', 'DiabetesPedigreeFunction', 'Age', 'Outcome']\n",
      "\n",
      "🎯 Target Variable:\n",
      "✅ 'Outcome' column found\n",
      "Values: [1 0]\n",
      "\n",
      "📋 First 5 rows of dataset:\n"
     ]
    },
    {
     "data": {
      "text/html": [
       "<div>\n",
       "<style scoped>\n",
       "    .dataframe tbody tr th:only-of-type {\n",
       "        vertical-align: middle;\n",
       "    }\n",
       "\n",
       "    .dataframe tbody tr th {\n",
       "        vertical-align: top;\n",
       "    }\n",
       "\n",
       "    .dataframe thead th {\n",
       "        text-align: right;\n",
       "    }\n",
       "</style>\n",
       "<table border=\"1\" class=\"dataframe\">\n",
       "  <thead>\n",
       "    <tr style=\"text-align: right;\">\n",
       "      <th></th>\n",
       "      <th>Pregnancies</th>\n",
       "      <th>Glucose</th>\n",
       "      <th>BloodPressure</th>\n",
       "      <th>SkinThickness</th>\n",
       "      <th>Insulin</th>\n",
       "      <th>BMI</th>\n",
       "      <th>DiabetesPedigreeFunction</th>\n",
       "      <th>Age</th>\n",
       "      <th>Outcome</th>\n",
       "    </tr>\n",
       "  </thead>\n",
       "  <tbody>\n",
       "    <tr>\n",
       "      <th>0</th>\n",
       "      <td>6</td>\n",
       "      <td>148.0</td>\n",
       "      <td>72.0</td>\n",
       "      <td>35.00000</td>\n",
       "      <td>155.548223</td>\n",
       "      <td>33.6</td>\n",
       "      <td>0.627</td>\n",
       "      <td>50</td>\n",
       "      <td>1</td>\n",
       "    </tr>\n",
       "    <tr>\n",
       "      <th>1</th>\n",
       "      <td>1</td>\n",
       "      <td>85.0</td>\n",
       "      <td>66.0</td>\n",
       "      <td>29.00000</td>\n",
       "      <td>155.548223</td>\n",
       "      <td>26.6</td>\n",
       "      <td>0.351</td>\n",
       "      <td>31</td>\n",
       "      <td>0</td>\n",
       "    </tr>\n",
       "    <tr>\n",
       "      <th>2</th>\n",
       "      <td>8</td>\n",
       "      <td>183.0</td>\n",
       "      <td>64.0</td>\n",
       "      <td>29.15342</td>\n",
       "      <td>155.548223</td>\n",
       "      <td>23.3</td>\n",
       "      <td>0.672</td>\n",
       "      <td>32</td>\n",
       "      <td>1</td>\n",
       "    </tr>\n",
       "    <tr>\n",
       "      <th>3</th>\n",
       "      <td>1</td>\n",
       "      <td>89.0</td>\n",
       "      <td>66.0</td>\n",
       "      <td>23.00000</td>\n",
       "      <td>94.000000</td>\n",
       "      <td>28.1</td>\n",
       "      <td>0.167</td>\n",
       "      <td>21</td>\n",
       "      <td>0</td>\n",
       "    </tr>\n",
       "    <tr>\n",
       "      <th>4</th>\n",
       "      <td>0</td>\n",
       "      <td>137.0</td>\n",
       "      <td>40.0</td>\n",
       "      <td>35.00000</td>\n",
       "      <td>168.000000</td>\n",
       "      <td>43.1</td>\n",
       "      <td>2.288</td>\n",
       "      <td>33</td>\n",
       "      <td>1</td>\n",
       "    </tr>\n",
       "  </tbody>\n",
       "</table>\n",
       "</div>"
      ],
      "text/plain": [
       "   Pregnancies  Glucose  BloodPressure  SkinThickness     Insulin   BMI  \\\n",
       "0            6    148.0           72.0       35.00000  155.548223  33.6   \n",
       "1            1     85.0           66.0       29.00000  155.548223  26.6   \n",
       "2            8    183.0           64.0       29.15342  155.548223  23.3   \n",
       "3            1     89.0           66.0       23.00000   94.000000  28.1   \n",
       "4            0    137.0           40.0       35.00000  168.000000  43.1   \n",
       "\n",
       "   DiabetesPedigreeFunction  Age  Outcome  \n",
       "0                     0.627   50        1  \n",
       "1                     0.351   31        0  \n",
       "2                     0.672   32        1  \n",
       "3                     0.167   21        0  \n",
       "4                     2.288   33        1  "
      ]
     },
     "execution_count": 2,
     "metadata": {},
     "output_type": "execute_result"
    }
   ],
   "source": [
    "# Load cleaned dataset\n",
    "DATA_PATH = \"../data/pima_clean.csv\"\n",
    "\n",
    "print(\"📂 Loading Pima Indians Diabetes Dataset...\")\n",
    "print(\"=\" * 50)\n",
    "\n",
    "try:\n",
    "    # Load the cleaned dataset\n",
    "    df = pd.read_csv(DATA_PATH)\n",
    "    print(f\"✅ Successfully loaded data from {DATA_PATH}\")\n",
    "    \n",
    "except FileNotFoundError:\n",
    "    print(f\"❌ File not found: {DATA_PATH}\")\n",
    "    print(\"Please ensure the dataset is in the correct location.\")\n",
    "    raise\n",
    "except Exception as e:\n",
    "    print(f\"❌ Error loading data: {e}\")\n",
    "    raise\n",
    "\n",
    "# Display basic information\n",
    "print(f\"\\n📊 Dataset Info:\")\n",
    "print(f\"Shape: {df.shape}\")\n",
    "print(f\"Rows: {df.shape[0]}\")\n",
    "print(f\"Columns: {df.shape[1]}\")\n",
    "\n",
    "print(f\"\\n📋 Column Names:\")\n",
    "print(df.columns.tolist())\n",
    "\n",
    "print(f\"\\n🎯 Target Variable:\")\n",
    "if 'Outcome' in df.columns:\n",
    "    print(\"✅ 'Outcome' column found\")\n",
    "    print(f\"Values: {df['Outcome'].unique()}\")\n",
    "else:\n",
    "    print(\"⚠️  'Outcome' column not found. Available columns:\", df.columns.tolist())\n",
    "\n",
    "# Display first few rows\n",
    "print(f\"\\n📋 First 5 rows of dataset:\")\n",
    "df.head()"
   ]
  },
  {
   "cell_type": "code",
   "execution_count": 3,
   "id": "41f616bd",
   "metadata": {},
   "outputs": [
    {
     "name": "stdout",
     "output_type": "stream",
     "text": [
      "🔍 DATASET OVERVIEW\n",
      "==================================================\n",
      "\n",
      "📊 Basic Statistics:\n",
      "       Pregnancies     Glucose  BloodPressure  SkinThickness     Insulin  \\\n",
      "count   768.000000  768.000000     768.000000     768.000000  768.000000   \n",
      "mean      3.845052  121.686763      72.405184      29.153420  155.548223   \n",
      "std       3.369578   30.435949      12.096346       8.790942   85.021108   \n",
      "min       0.000000   44.000000      24.000000       7.000000   14.000000   \n",
      "25%       1.000000   99.750000      64.000000      25.000000  121.500000   \n",
      "50%       3.000000  117.000000      72.202592      29.153420  155.548223   \n",
      "75%       6.000000  140.250000      80.000000      32.000000  155.548223   \n",
      "max      17.000000  199.000000     122.000000      99.000000  846.000000   \n",
      "\n",
      "              BMI  DiabetesPedigreeFunction         Age     Outcome  \n",
      "count  768.000000                768.000000  768.000000  768.000000  \n",
      "mean    32.457464                  0.471876   33.240885    0.348958  \n",
      "std      6.875151                  0.331329   11.760232    0.476951  \n",
      "min     18.200000                  0.078000   21.000000    0.000000  \n",
      "25%     27.500000                  0.243750   24.000000    0.000000  \n",
      "50%     32.400000                  0.372500   29.000000    0.000000  \n",
      "75%     36.600000                  0.626250   41.000000    1.000000  \n",
      "max     67.100000                  2.420000   81.000000    1.000000  \n",
      "\n",
      "🎯 Target Distribution:\n",
      "No Diabetes (0): 500 samples (65.1%)\n",
      "Diabetes (1): 268 samples (34.9%)\n",
      "\n",
      "❓ Missing Values:\n",
      "✅ No missing values found\n",
      "\n",
      "🔢 Data Types:\n",
      "Pregnancies                   int64\n",
      "Glucose                     float64\n",
      "BloodPressure               float64\n",
      "SkinThickness               float64\n",
      "Insulin                     float64\n",
      "BMI                         float64\n",
      "DiabetesPedigreeFunction    float64\n",
      "Age                           int64\n",
      "Outcome                       int64\n",
      "dtype: object\n",
      "\n",
      "🔄 Duplicate rows: 0\n",
      "       Pregnancies     Glucose  BloodPressure  SkinThickness     Insulin  \\\n",
      "count   768.000000  768.000000     768.000000     768.000000  768.000000   \n",
      "mean      3.845052  121.686763      72.405184      29.153420  155.548223   \n",
      "std       3.369578   30.435949      12.096346       8.790942   85.021108   \n",
      "min       0.000000   44.000000      24.000000       7.000000   14.000000   \n",
      "25%       1.000000   99.750000      64.000000      25.000000  121.500000   \n",
      "50%       3.000000  117.000000      72.202592      29.153420  155.548223   \n",
      "75%       6.000000  140.250000      80.000000      32.000000  155.548223   \n",
      "max      17.000000  199.000000     122.000000      99.000000  846.000000   \n",
      "\n",
      "              BMI  DiabetesPedigreeFunction         Age     Outcome  \n",
      "count  768.000000                768.000000  768.000000  768.000000  \n",
      "mean    32.457464                  0.471876   33.240885    0.348958  \n",
      "std      6.875151                  0.331329   11.760232    0.476951  \n",
      "min     18.200000                  0.078000   21.000000    0.000000  \n",
      "25%     27.500000                  0.243750   24.000000    0.000000  \n",
      "50%     32.400000                  0.372500   29.000000    0.000000  \n",
      "75%     36.600000                  0.626250   41.000000    1.000000  \n",
      "max     67.100000                  2.420000   81.000000    1.000000  \n",
      "\n",
      "🎯 Target Distribution:\n",
      "No Diabetes (0): 500 samples (65.1%)\n",
      "Diabetes (1): 268 samples (34.9%)\n",
      "\n",
      "❓ Missing Values:\n",
      "✅ No missing values found\n",
      "\n",
      "🔢 Data Types:\n",
      "Pregnancies                   int64\n",
      "Glucose                     float64\n",
      "BloodPressure               float64\n",
      "SkinThickness               float64\n",
      "Insulin                     float64\n",
      "BMI                         float64\n",
      "DiabetesPedigreeFunction    float64\n",
      "Age                           int64\n",
      "Outcome                       int64\n",
      "dtype: object\n",
      "\n",
      "🔄 Duplicate rows: 0\n"
     ]
    }
   ],
   "source": [
    "# Basic data exploration\n",
    "print(\"🔍 DATASET OVERVIEW\")\n",
    "print(\"=\" * 50)\n",
    "\n",
    "print(f\"\\n📊 Basic Statistics:\")\n",
    "print(df.describe())\n",
    "\n",
    "print(f\"\\n🎯 Target Distribution:\")\n",
    "target_counts = df['Outcome'].value_counts()\n",
    "target_percentages = df['Outcome'].value_counts(normalize=True) * 100\n",
    "\n",
    "print(f\"No Diabetes (0): {target_counts[0]} samples ({target_percentages[0]:.1f}%)\")\n",
    "print(f\"Diabetes (1): {target_counts[1]} samples ({target_percentages[1]:.1f}%)\")\n",
    "\n",
    "print(f\"\\n❓ Missing Values:\")\n",
    "missing_values = df.isnull().sum()\n",
    "if missing_values.sum() == 0:\n",
    "    print(\"✅ No missing values found\")\n",
    "else:\n",
    "    print(missing_values[missing_values > 0])\n",
    "\n",
    "print(f\"\\n🔢 Data Types:\")\n",
    "print(df.dtypes)\n",
    "\n",
    "# Check for duplicate rows\n",
    "duplicates = df.duplicated().sum()\n",
    "print(f\"\\n🔄 Duplicate rows: {duplicates}\")\n",
    "\n",
    "if duplicates > 0:\n",
    "    print(\"Removing duplicate rows...\")\n",
    "    df = df.drop_duplicates()\n",
    "    print(f\"✅ Removed {duplicates} duplicate rows. New shape: {df.shape}\")"
   ]
  },
  {
   "cell_type": "code",
   "execution_count": 4,
   "id": "fad88fad",
   "metadata": {},
   "outputs": [
    {
     "name": "stdout",
     "output_type": "stream",
     "text": [
      "📊 VISUALIZATIONS\n",
      "==================================================\n"
     ]
    },
    {
     "data": {
      "application/vnd.plotly.v1+json": {
       "config": {
        "plotlyServerURL": "https://plot.ly"
       },
       "data": [
        {
         "marker": {
          "color": [
           "skyblue",
           "lightcoral"
          ]
         },
         "type": "bar",
         "x": [
          "No Diabetes",
          "Diabetes"
         ],
         "xaxis": "x",
         "y": {
          "bdata": "9AEMAQ==",
          "dtype": "i2"
         },
         "yaxis": "y"
        },
        {
         "name": "Outcome 0",
         "opacity": 0.7,
         "type": "histogram",
         "x": {
          "bdata": "HxUeHR45IRsyFjkmPBYcLSEjGiUwKB0WGBYaHioVHywWFSQYIDYZGxoXFhYpGxgWFiQWGy0aGBUiKhUoGBYXFhUYGxUbJRkXGRkWFRgXRR4XJxofFRYdHDcmFhcVKSJBFhglFxUXFiQtGxUWIh0dGRchKi8gFxUbKBUoKhUVHCAbNxsVGRg8ICU9GhYaHxgWHRcbFRYdKRciFyobGBkeGRgiGD8rGBUVKBU0GRc5FiclMyIaIRVBHBg6IyUdFSkWGRoeHB8VGCUlLhksFhosFiQWITkxFhcaHR4uGBUwP0EeHhUWFRUZHBYWIxgWFRkZGBwqFSUZJxk3JhoZHBkWFRYbGhUVFRkaFyYWHSQpHBUfFhgcGhoXGUgYPhhRMBonJSIVFhkbHBYWMhg7Hyc/HRwXFTocQxgqIRZCHhknFRwpKCYVFUAVOhYYMyk8GRoaGBUVGBYfFhgdHxguQxcZHRwyJRUZQhccJR46KiMYIBsWFS4lJxUWFhcZIyQbPioWHRkYGSIuFRoYHB4VGRsXGBobHhccHC0VFR0VFS0VGBcWHzAXHBsYHxseFxcbHBsWFikzNhgrLTEVLxZEGRcWFkUZFh0XIhcZFhwaGikbHBYYKBUgOBgiFSotJhkWFhYWNRwVKhUaFicuIBwZJxoWIT8bHhc=",
          "dtype": "i1"
         },
         "xaxis": "x2",
         "yaxis": "y2"
        },
        {
         "name": "Outcome 1",
         "opacity": 0.7,
         "type": "histogram",
         "x": {
          "bdata": "MiAhGjU2IjszIB8fICkdMykrHC4bODYZHzopJyomHCoaJSs8HyEYGC4nPSYZFxooPiEhHioqKyQvICkkHSQaJSk8IR8ZJCgdFxodOTQpGCQmGSApFUIYFi4aMxcgFiExLBUzGyMZHCYdHC80HRkfGB0uHhkcLxkeGysdOxkkKx4XKSwhKSUxHCwdHUMdLRk6ICMtOhsfFhkfIykuJxwVFiUcJB8mKx0pIR4ZFhcmMyYdIx8YLTcpIy4cNS0XICsbOCU1NhwhFT4VNCk0LSwWJjYkFiQoMjIYIiYgMiEWKhkbFisoKEYoHzUZGhsuLCsrHzE0Hi0XJiIfNCoiFhgqMC0bJDIWGi0lNEIrLw==",
          "dtype": "i1"
         },
         "xaxis": "x2",
         "yaxis": "y2"
        },
        {
         "name": "BMI Outcome 0",
         "opacity": 0.7,
         "type": "histogram",
         "x": {
          "bdata": "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",
          "dtype": "f8"
         },
         "xaxis": "x3",
         "yaxis": "y3"
        },
        {
         "name": "BMI Outcome 1",
         "opacity": 0.7,
         "type": "histogram",
         "x": {
          "bdata": "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",
          "dtype": "f8"
         },
         "xaxis": "x3",
         "yaxis": "y3"
        },
        {
         "name": "Glucose Outcome 0",
         "opacity": 0.7,
         "type": "histogram",
         "x": {
          "bdata": "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",
          "dtype": "f8"
         },
         "xaxis": "x4",
         "yaxis": "y4"
        },
        {
         "name": "Glucose Outcome 1",
         "opacity": 0.7,
         "type": "histogram",
         "x": {
          "bdata": "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",
          "dtype": "f8"
         },
         "xaxis": "x4",
         "yaxis": "y4"
        }
       ],
       "layout": {
        "annotations": [
         {
          "font": {
           "size": 16
          },
          "showarrow": false,
          "text": "Target Distribution",
          "x": 0.14444444444444446,
          "xanchor": "center",
          "xref": "paper",
          "y": 1,
          "yanchor": "bottom",
          "yref": "paper"
         },
         {
          "font": {
           "size": 16
          },
          "showarrow": false,
          "text": "Age Distribution by Outcome",
          "x": 0.5,
          "xanchor": "center",
          "xref": "paper",
          "y": 1,
          "yanchor": "bottom",
          "yref": "paper"
         },
         {
          "font": {
           "size": 16
          },
          "showarrow": false,
          "text": "BMI Distribution by Outcome",
          "x": 0.8555555555555556,
          "xanchor": "center",
          "xref": "paper",
          "y": 1,
          "yanchor": "bottom",
          "yref": "paper"
         },
         {
          "font": {
           "size": 16
          },
          "showarrow": false,
          "text": "Glucose Distribution by Outcome",
          "x": 0.14444444444444446,
          "xanchor": "center",
          "xref": "paper",
          "y": 0.6111111111111112,
          "yanchor": "bottom",
          "yref": "paper"
         },
         {
          "font": {
           "size": 16
          },
          "showarrow": false,
          "text": "Correlation Heatmap",
          "x": 0.5,
          "xanchor": "center",
          "xref": "paper",
          "y": 0.6111111111111112,
          "yanchor": "bottom",
          "yref": "paper"
         },
         {
          "font": {
           "size": 16
          },
          "showarrow": false,
          "text": "Pregnancies vs Outcome",
          "x": 0.8555555555555556,
          "xanchor": "center",
          "xref": "paper",
          "y": 0.6111111111111112,
          "yanchor": "bottom",
          "yref": "paper"
         },
         {
          "font": {
           "size": 16
          },
          "showarrow": false,
          "text": "Blood Pressure Distribution",
          "x": 0.14444444444444446,
          "xanchor": "center",
          "xref": "paper",
          "y": 0.22222222222222224,
          "yanchor": "bottom",
          "yref": "paper"
         },
         {
          "font": {
           "size": 16
          },
          "showarrow": false,
          "text": "Insulin Distribution",
          "x": 0.5,
          "xanchor": "center",
          "xref": "paper",
          "y": 0.22222222222222224,
          "yanchor": "bottom",
          "yref": "paper"
         },
         {
          "font": {
           "size": 16
          },
          "showarrow": false,
          "text": "Feature Box Plots",
          "x": 0.8555555555555556,
          "xanchor": "center",
          "xref": "paper",
          "y": 0.22222222222222224,
          "yanchor": "bottom",
          "yref": "paper"
         }
        ],
        "height": 1200,
        "template": {
         "data": {
          "bar": [
           {
            "error_x": {
             "color": "#2a3f5f"
            },
            "error_y": {
             "color": "#2a3f5f"
            },
            "marker": {
             "line": {
              "color": "#E5ECF6",
              "width": 0.5
             },
             "pattern": {
              "fillmode": "overlay",
              "size": 10,
              "solidity": 0.2
             }
            },
            "type": "bar"
           }
          ],
          "barpolar": [
           {
            "marker": {
             "line": {
              "color": "#E5ECF6",
              "width": 0.5
             },
             "pattern": {
              "fillmode": "overlay",
              "size": 10,
              "solidity": 0.2
             }
            },
            "type": "barpolar"
           }
          ],
          "carpet": [
           {
            "aaxis": {
             "endlinecolor": "#2a3f5f",
             "gridcolor": "white",
             "linecolor": "white",
             "minorgridcolor": "white",
             "startlinecolor": "#2a3f5f"
            },
            "baxis": {
             "endlinecolor": "#2a3f5f",
             "gridcolor": "white",
             "linecolor": "white",
             "minorgridcolor": "white",
             "startlinecolor": "#2a3f5f"
            },
            "type": "carpet"
           }
          ],
          "choropleth": [
           {
            "colorbar": {
             "outlinewidth": 0,
             "ticks": ""
            },
            "type": "choropleth"
           }
          ],
          "contour": [
           {
            "colorbar": {
             "outlinewidth": 0,
             "ticks": ""
            },
            "colorscale": [
             [
              0,
              "#0d0887"
             ],
             [
              0.1111111111111111,
              "#46039f"
             ],
             [
              0.2222222222222222,
              "#7201a8"
             ],
             [
              0.3333333333333333,
              "#9c179e"
             ],
             [
              0.4444444444444444,
              "#bd3786"
             ],
             [
              0.5555555555555556,
              "#d8576b"
             ],
             [
              0.6666666666666666,
              "#ed7953"
             ],
             [
              0.7777777777777778,
              "#fb9f3a"
             ],
             [
              0.8888888888888888,
              "#fdca26"
             ],
             [
              1,
              "#f0f921"
             ]
            ],
            "type": "contour"
           }
          ],
          "contourcarpet": [
           {
            "colorbar": {
             "outlinewidth": 0,
             "ticks": ""
            },
            "type": "contourcarpet"
           }
          ],
          "heatmap": [
           {
            "colorbar": {
             "outlinewidth": 0,
             "ticks": ""
            },
            "colorscale": [
             [
              0,
              "#0d0887"
             ],
             [
              0.1111111111111111,
              "#46039f"
             ],
             [
              0.2222222222222222,
              "#7201a8"
             ],
             [
              0.3333333333333333,
              "#9c179e"
             ],
             [
              0.4444444444444444,
              "#bd3786"
             ],
             [
              0.5555555555555556,
              "#d8576b"
             ],
             [
              0.6666666666666666,
              "#ed7953"
             ],
             [
              0.7777777777777778,
              "#fb9f3a"
             ],
             [
              0.8888888888888888,
              "#fdca26"
             ],
             [
              1,
              "#f0f921"
             ]
            ],
            "type": "heatmap"
           }
          ],
          "histogram": [
           {
            "marker": {
             "pattern": {
              "fillmode": "overlay",
              "size": 10,
              "solidity": 0.2
             }
            },
            "type": "histogram"
           }
          ],
          "histogram2d": [
           {
            "colorbar": {
             "outlinewidth": 0,
             "ticks": ""
            },
            "colorscale": [
             [
              0,
              "#0d0887"
             ],
             [
              0.1111111111111111,
              "#46039f"
             ],
             [
              0.2222222222222222,
              "#7201a8"
             ],
             [
              0.3333333333333333,
              "#9c179e"
             ],
             [
              0.4444444444444444,
              "#bd3786"
             ],
             [
              0.5555555555555556,
              "#d8576b"
             ],
             [
              0.6666666666666666,
              "#ed7953"
             ],
             [
              0.7777777777777778,
              "#fb9f3a"
             ],
             [
              0.8888888888888888,
              "#fdca26"
             ],
             [
              1,
              "#f0f921"
             ]
            ],
            "type": "histogram2d"
           }
          ],
          "histogram2dcontour": [
           {
            "colorbar": {
             "outlinewidth": 0,
             "ticks": ""
            },
            "colorscale": [
             [
              0,
              "#0d0887"
             ],
             [
              0.1111111111111111,
              "#46039f"
             ],
             [
              0.2222222222222222,
              "#7201a8"
             ],
             [
              0.3333333333333333,
              "#9c179e"
             ],
             [
              0.4444444444444444,
              "#bd3786"
             ],
             [
              0.5555555555555556,
              "#d8576b"
             ],
             [
              0.6666666666666666,
              "#ed7953"
             ],
             [
              0.7777777777777778,
              "#fb9f3a"
             ],
             [
              0.8888888888888888,
              "#fdca26"
             ],
             [
              1,
              "#f0f921"
             ]
            ],
            "type": "histogram2dcontour"
           }
          ],
          "mesh3d": [
           {
            "colorbar": {
             "outlinewidth": 0,
             "ticks": ""
            },
            "type": "mesh3d"
           }
          ],
          "parcoords": [
           {
            "line": {
             "colorbar": {
              "outlinewidth": 0,
              "ticks": ""
             }
            },
            "type": "parcoords"
           }
          ],
          "pie": [
           {
            "automargin": true,
            "type": "pie"
           }
          ],
          "scatter": [
           {
            "fillpattern": {
             "fillmode": "overlay",
             "size": 10,
             "solidity": 0.2
            },
            "type": "scatter"
           }
          ],
          "scatter3d": [
           {
            "line": {
             "colorbar": {
              "outlinewidth": 0,
              "ticks": ""
             }
            },
            "marker": {
             "colorbar": {
              "outlinewidth": 0,
              "ticks": ""
             }
            },
            "type": "scatter3d"
           }
          ],
          "scattercarpet": [
           {
            "marker": {
             "colorbar": {
              "outlinewidth": 0,
              "ticks": ""
             }
            },
            "type": "scattercarpet"
           }
          ],
          "scattergeo": [
           {
            "marker": {
             "colorbar": {
              "outlinewidth": 0,
              "ticks": ""
             }
            },
            "type": "scattergeo"
           }
          ],
          "scattergl": [
           {
            "marker": {
             "colorbar": {
              "outlinewidth": 0,
              "ticks": ""
             }
            },
            "type": "scattergl"
           }
          ],
          "scattermap": [
           {
            "marker": {
             "colorbar": {
              "outlinewidth": 0,
              "ticks": ""
             }
            },
            "type": "scattermap"
           }
          ],
          "scattermapbox": [
           {
            "marker": {
             "colorbar": {
              "outlinewidth": 0,
              "ticks": ""
             }
            },
            "type": "scattermapbox"
           }
          ],
          "scatterpolar": [
           {
            "marker": {
             "colorbar": {
              "outlinewidth": 0,
              "ticks": ""
             }
            },
            "type": "scatterpolar"
           }
          ],
          "scatterpolargl": [
           {
            "marker": {
             "colorbar": {
              "outlinewidth": 0,
              "ticks": ""
             }
            },
            "type": "scatterpolargl"
           }
          ],
          "scatterternary": [
           {
            "marker": {
             "colorbar": {
              "outlinewidth": 0,
              "ticks": ""
             }
            },
            "type": "scatterternary"
           }
          ],
          "surface": [
           {
            "colorbar": {
             "outlinewidth": 0,
             "ticks": ""
            },
            "colorscale": [
             [
              0,
              "#0d0887"
             ],
             [
              0.1111111111111111,
              "#46039f"
             ],
             [
              0.2222222222222222,
              "#7201a8"
             ],
             [
              0.3333333333333333,
              "#9c179e"
             ],
             [
              0.4444444444444444,
              "#bd3786"
             ],
             [
              0.5555555555555556,
              "#d8576b"
             ],
             [
              0.6666666666666666,
              "#ed7953"
             ],
             [
              0.7777777777777778,
              "#fb9f3a"
             ],
             [
              0.8888888888888888,
              "#fdca26"
             ],
             [
              1,
              "#f0f921"
             ]
            ],
            "type": "surface"
           }
          ],
          "table": [
           {
            "cells": {
             "fill": {
              "color": "#EBF0F8"
             },
             "line": {
              "color": "white"
             }
            },
            "header": {
             "fill": {
              "color": "#C8D4E3"
             },
             "line": {
              "color": "white"
             }
            },
            "type": "table"
           }
          ]
         },
         "layout": {
          "annotationdefaults": {
           "arrowcolor": "#2a3f5f",
           "arrowhead": 0,
           "arrowwidth": 1
          },
          "autotypenumbers": "strict",
          "coloraxis": {
           "colorbar": {
            "outlinewidth": 0,
            "ticks": ""
           }
          },
          "colorscale": {
           "diverging": [
            [
             0,
             "#8e0152"
            ],
            [
             0.1,
             "#c51b7d"
            ],
            [
             0.2,
             "#de77ae"
            ],
            [
             0.3,
             "#f1b6da"
            ],
            [
             0.4,
             "#fde0ef"
            ],
            [
             0.5,
             "#f7f7f7"
            ],
            [
             0.6,
             "#e6f5d0"
            ],
            [
             0.7,
             "#b8e186"
            ],
            [
             0.8,
             "#7fbc41"
            ],
            [
             0.9,
             "#4d9221"
            ],
            [
             1,
             "#276419"
            ]
           ],
           "sequential": [
            [
             0,
             "#0d0887"
            ],
            [
             0.1111111111111111,
             "#46039f"
            ],
            [
             0.2222222222222222,
             "#7201a8"
            ],
            [
             0.3333333333333333,
             "#9c179e"
            ],
            [
             0.4444444444444444,
             "#bd3786"
            ],
            [
             0.5555555555555556,
             "#d8576b"
            ],
            [
             0.6666666666666666,
             "#ed7953"
            ],
            [
             0.7777777777777778,
             "#fb9f3a"
            ],
            [
             0.8888888888888888,
             "#fdca26"
            ],
            [
             1,
             "#f0f921"
            ]
           ],
           "sequentialminus": [
            [
             0,
             "#0d0887"
            ],
            [
             0.1111111111111111,
             "#46039f"
            ],
            [
             0.2222222222222222,
             "#7201a8"
            ],
            [
             0.3333333333333333,
             "#9c179e"
            ],
            [
             0.4444444444444444,
             "#bd3786"
            ],
            [
             0.5555555555555556,
             "#d8576b"
            ],
            [
             0.6666666666666666,
             "#ed7953"
            ],
            [
             0.7777777777777778,
             "#fb9f3a"
            ],
            [
             0.8888888888888888,
             "#fdca26"
            ],
            [
             1,
             "#f0f921"
            ]
           ]
          },
          "colorway": [
           "#636efa",
           "#EF553B",
           "#00cc96",
           "#ab63fa",
           "#FFA15A",
           "#19d3f3",
           "#FF6692",
           "#B6E880",
           "#FF97FF",
           "#FECB52"
          ],
          "font": {
           "color": "#2a3f5f"
          },
          "geo": {
           "bgcolor": "white",
           "lakecolor": "white",
           "landcolor": "#E5ECF6",
           "showlakes": true,
           "showland": true,
           "subunitcolor": "white"
          },
          "hoverlabel": {
           "align": "left"
          },
          "hovermode": "closest",
          "mapbox": {
           "style": "light"
          },
          "paper_bgcolor": "white",
          "plot_bgcolor": "#E5ECF6",
          "polar": {
           "angularaxis": {
            "gridcolor": "white",
            "linecolor": "white",
            "ticks": ""
           },
           "bgcolor": "#E5ECF6",
           "radialaxis": {
            "gridcolor": "white",
            "linecolor": "white",
            "ticks": ""
           }
          },
          "scene": {
           "xaxis": {
            "backgroundcolor": "#E5ECF6",
            "gridcolor": "white",
            "gridwidth": 2,
            "linecolor": "white",
            "showbackground": true,
            "ticks": "",
            "zerolinecolor": "white"
           },
           "yaxis": {
            "backgroundcolor": "#E5ECF6",
            "gridcolor": "white",
            "gridwidth": 2,
            "linecolor": "white",
            "showbackground": true,
            "ticks": "",
            "zerolinecolor": "white"
           },
           "zaxis": {
            "backgroundcolor": "#E5ECF6",
            "gridcolor": "white",
            "gridwidth": 2,
            "linecolor": "white",
            "showbackground": true,
            "ticks": "",
            "zerolinecolor": "white"
           }
          },
          "shapedefaults": {
           "line": {
            "color": "#2a3f5f"
           }
          },
          "ternary": {
           "aaxis": {
            "gridcolor": "white",
            "linecolor": "white",
            "ticks": ""
           },
           "baxis": {
            "gridcolor": "white",
            "linecolor": "white",
            "ticks": ""
           },
           "bgcolor": "#E5ECF6",
           "caxis": {
            "gridcolor": "white",
            "linecolor": "white",
            "ticks": ""
           }
          },
          "title": {
           "x": 0.05
          },
          "xaxis": {
           "automargin": true,
           "gridcolor": "white",
           "linecolor": "white",
           "ticks": "",
           "title": {
            "standoff": 15
           },
           "zerolinecolor": "white",
           "zerolinewidth": 2
          },
          "yaxis": {
           "automargin": true,
           "gridcolor": "white",
           "linecolor": "white",
           "ticks": "",
           "title": {
            "standoff": 15
           },
           "zerolinecolor": "white",
           "zerolinewidth": 2
          }
         }
        },
        "title": {
         "text": "Diabetes Dataset - Comprehensive Analysis"
        },
        "xaxis": {
         "anchor": "y",
         "domain": [
          0,
          0.2888888888888889
         ]
        },
        "xaxis2": {
         "anchor": "y2",
         "domain": [
          0.35555555555555557,
          0.6444444444444445
         ]
        },
        "xaxis3": {
         "anchor": "y3",
         "domain": [
          0.7111111111111111,
          1
         ]
        },
        "xaxis4": {
         "anchor": "y4",
         "domain": [
          0,
          0.2888888888888889
         ]
        },
        "xaxis5": {
         "anchor": "y5",
         "domain": [
          0.35555555555555557,
          0.6444444444444445
         ]
        },
        "xaxis6": {
         "anchor": "y6",
         "domain": [
          0.7111111111111111,
          1
         ]
        },
        "xaxis7": {
         "anchor": "y7",
         "domain": [
          0,
          0.2888888888888889
         ]
        },
        "xaxis8": {
         "anchor": "y8",
         "domain": [
          0.35555555555555557,
          0.6444444444444445
         ]
        },
        "xaxis9": {
         "anchor": "y9",
         "domain": [
          0.7111111111111111,
          1
         ]
        },
        "yaxis": {
         "anchor": "x",
         "domain": [
          0.7777777777777778,
          1
         ]
        },
        "yaxis2": {
         "anchor": "x2",
         "domain": [
          0.7777777777777778,
          1
         ]
        },
        "yaxis3": {
         "anchor": "x3",
         "domain": [
          0.7777777777777778,
          1
         ]
        },
        "yaxis4": {
         "anchor": "x4",
         "domain": [
          0.3888888888888889,
          0.6111111111111112
         ]
        },
        "yaxis5": {
         "anchor": "x5",
         "domain": [
          0.3888888888888889,
          0.6111111111111112
         ]
        },
        "yaxis6": {
         "anchor": "x6",
         "domain": [
          0.3888888888888889,
          0.6111111111111112
         ]
        },
        "yaxis7": {
         "anchor": "x7",
         "domain": [
          0,
          0.22222222222222224
         ]
        },
        "yaxis8": {
         "anchor": "x8",
         "domain": [
          0,
          0.22222222222222224
         ]
        },
        "yaxis9": {
         "anchor": "x9",
         "domain": [
          0,
          0.22222222222222224
         ]
        }
       }
      }
     },
     "metadata": {},
     "output_type": "display_data"
    },
    {
     "data": {
      "image/png": "[encoded data removed]",
      "text/plain": [
       "<Figure size 1200x800 with 2 Axes>"
      ]
     },
     "metadata": {},
     "output_type": "display_data"
    },
    {
     "data": {
      "image/png": "[encoded data removed]",
      "text/plain": [
       "<Figure size 1500x1500 with 8 Axes>"
      ]
     },
     "metadata": {},
     "output_type": "display_data"
    },
    {
     "name": "stdout",
     "output_type": "stream",
     "text": [
      "✅ Visualization completed!\n"
     ]
    }
   ],
   "source": [
    "# Visualizations\n",
    "print(\"📊 VISUALIZATIONS\")\n",
    "print(\"=\" * 50)\n",
    "\n",
    "# Create subplots for comprehensive visualization\n",
    "fig = make_subplots(\n",
    "    rows=3, cols=3,\n",
    "    subplot_titles=[\n",
    "        'Target Distribution', 'Age Distribution by Outcome', 'BMI Distribution by Outcome',\n",
    "        'Glucose Distribution by Outcome', 'Correlation Heatmap', 'Pregnancies vs Outcome',\n",
    "        'Blood Pressure Distribution', 'Insulin Distribution', 'Feature Box Plots'\n",
    "    ],\n",
    "    specs=[[{\"type\": \"bar\"}, {\"type\": \"histogram\"}, {\"type\": \"histogram\"}],\n",
    "           [{\"type\": \"histogram\"}, {\"type\": \"heatmap\"}, {\"type\": \"box\"}],\n",
    "           [{\"type\": \"histogram\"}, {\"type\": \"histogram\"}, {\"type\": \"box\"}]]\n",
    ")\n",
    "\n",
    "# 1. Target distribution\n",
    "target_counts = df['Outcome'].value_counts()\n",
    "fig.add_trace(\n",
    "    go.Bar(x=['No Diabetes', 'Diabetes'], y=target_counts.values, \n",
    "           marker_color=['skyblue', 'lightcoral']),\n",
    "    row=1, col=1\n",
    ")\n",
    "\n",
    "# 2. Age distribution by outcome\n",
    "for outcome in [0, 1]:\n",
    "    fig.add_trace(\n",
    "        go.Histogram(x=df[df['Outcome']==outcome]['Age'], \n",
    "                    name=f'Outcome {outcome}', opacity=0.7),\n",
    "        row=1, col=2\n",
    "    )\n",
    "\n",
    "# 3. BMI distribution by outcome\n",
    "for outcome in [0, 1]:\n",
    "    fig.add_trace(\n",
    "        go.Histogram(x=df[df['Outcome']==outcome]['BMI'], \n",
    "                    name=f'BMI Outcome {outcome}', opacity=0.7),\n",
    "        row=1, col=3\n",
    "    )\n",
    "\n",
    "# 4. Glucose distribution by outcome\n",
    "for outcome in [0, 1]:\n",
    "    fig.add_trace(\n",
    "        go.Histogram(x=df[df['Outcome']==outcome]['Glucose'], \n",
    "                    name=f'Glucose Outcome {outcome}', opacity=0.7),\n",
    "        row=2, col=1\n",
    "    )\n",
    "\n",
    "# Update layout\n",
    "fig.update_layout(height=1200, title_text=\"Diabetes Dataset - Comprehensive Analysis\")\n",
    "fig.show()\n",
    "\n",
    "# Separate correlation heatmap using matplotlib/seaborn for better control\n",
    "plt.figure(figsize=(12, 8))\n",
    "correlation_matrix = df.corr()\n",
    "sns.heatmap(correlation_matrix, annot=True, cmap='coolwarm', center=0,\n",
    "            square=True, linewidths=0.5, fmt='.2f')\n",
    "plt.title('🔗 Feature Correlation Matrix')\n",
    "plt.tight_layout()\n",
    "plt.show()\n",
    "\n",
    "# Feature distributions by outcome\n",
    "feature_cols = [col for col in df.columns if col != 'Outcome']\n",
    "n_features = len(feature_cols)\n",
    "n_cols = 3\n",
    "n_rows = (n_features + n_cols - 1) // n_cols\n",
    "\n",
    "plt.figure(figsize=(15, 5 * n_rows))\n",
    "for i, feature in enumerate(feature_cols, 1):\n",
    "    plt.subplot(n_rows, n_cols, i)\n",
    "    \n",
    "    # Create histograms for both outcomes\n",
    "    df[df['Outcome']==0][feature].hist(alpha=0.7, bins=30, label='No Diabetes', color='skyblue')\n",
    "    df[df['Outcome']==1][feature].hist(alpha=0.7, bins=30, label='Diabetes', color='lightcoral')\n",
    "    \n",
    "    plt.title(f'{feature} Distribution by Outcome')\n",
    "    plt.xlabel(feature)\n",
    "    plt.ylabel('Frequency')\n",
    "    plt.legend()\n",
    "    plt.grid(True, alpha=0.3)\n",
    "\n",
    "plt.tight_layout()\n",
    "plt.show()\n",
    "\n",
    "print(\"✅ Visualization completed!\")"
   ]
  },
  {
   "cell_type": "markdown",
   "id": "7d29889d",
   "metadata": {},
   "source": [
    "## 3. Feature Engineering and Selection\n",
    "\n",
    "Chuẩn bị features cho machine learning bao gồm scaling, encoding và feature selection"
   ]
  },
  {
   "cell_type": "code",
   "execution_count": 5,
   "id": "a5508d81",
   "metadata": {},
   "outputs": [
    {
     "name": "stdout",
     "output_type": "stream",
     "text": [
      "🔧 FEATURE ENGINEERING\n",
      "==================================================\n",
      "\n",
      "🔍 Checking for zero values (potential missing data):\n",
      "Glucose: ✅ No zero values\n",
      "BloodPressure: ✅ No zero values\n",
      "SkinThickness: ✅ No zero values\n",
      "Insulin: ✅ No zero values\n",
      "BMI: ✅ No zero values\n",
      "\n",
      "📊 Dataset shape after preprocessing: (768, 9)\n",
      "\n",
      "🛠️ Creating new features:\n",
      "✅ Created 15 new features\n",
      "New features: ['BMI_Category', 'BMI_Category_Num', 'Age_Group', 'Age_Group_Num', 'Glucose_Category', 'Glucose_Category_Num', 'BP_Category', 'BP_Category_Num', 'Risk_Score', 'BMI_Age_Interaction', 'Glucose_BMI_Interaction']\n",
      "\n",
      "📋 Sample of processed data:\n"
     ]
    },
    {
     "data": {
      "text/html": [
       "<div>\n",
       "<style scoped>\n",
       "    .dataframe tbody tr th:only-of-type {\n",
       "        vertical-align: middle;\n",
       "    }\n",
       "\n",
       "    .dataframe tbody tr th {\n",
       "        vertical-align: top;\n",
       "    }\n",
       "\n",
       "    .dataframe thead th {\n",
       "        text-align: right;\n",
       "    }\n",
       "</style>\n",
       "<table border=\"1\" class=\"dataframe\">\n",
       "  <thead>\n",
       "    <tr style=\"text-align: right;\">\n",
       "      <th></th>\n",
       "      <th>Glucose</th>\n",
       "      <th>BMI</th>\n",
       "      <th>Age</th>\n",
       "      <th>BMI_Category_Num</th>\n",
       "      <th>Age_Group_Num</th>\n",
       "      <th>Risk_Score</th>\n",
       "      <th>Outcome</th>\n",
       "    </tr>\n",
       "  </thead>\n",
       "  <tbody>\n",
       "    <tr>\n",
       "      <th>0</th>\n",
       "      <td>148.0</td>\n",
       "      <td>33.6</td>\n",
       "      <td>50</td>\n",
       "      <td>3</td>\n",
       "      <td>2</td>\n",
       "      <td>0.508512</td>\n",
       "      <td>1</td>\n",
       "    </tr>\n",
       "    <tr>\n",
       "      <th>1</th>\n",
       "      <td>85.0</td>\n",
       "      <td>26.6</td>\n",
       "      <td>31</td>\n",
       "      <td>2</td>\n",
       "      <td>1</td>\n",
       "      <td>0.233531</td>\n",
       "      <td>0</td>\n",
       "    </tr>\n",
       "    <tr>\n",
       "      <th>2</th>\n",
       "      <td>183.0</td>\n",
       "      <td>23.3</td>\n",
       "      <td>32</td>\n",
       "      <td>1</td>\n",
       "      <td>1</td>\n",
       "      <td>0.467481</td>\n",
       "      <td>1</td>\n",
       "    </tr>\n",
       "    <tr>\n",
       "      <th>3</th>\n",
       "      <td>89.0</td>\n",
       "      <td>28.1</td>\n",
       "      <td>21</td>\n",
       "      <td>2</td>\n",
       "      <td>0</td>\n",
       "      <td>0.219722</td>\n",
       "      <td>0</td>\n",
       "    </tr>\n",
       "    <tr>\n",
       "      <th>4</th>\n",
       "      <td>137.0</td>\n",
       "      <td>43.1</td>\n",
       "      <td>33</td>\n",
       "      <td>3</td>\n",
       "      <td>1</td>\n",
       "      <td>0.449087</td>\n",
       "      <td>1</td>\n",
       "    </tr>\n",
       "  </tbody>\n",
       "</table>\n",
       "</div>"
      ],
      "text/plain": [
       "   Glucose   BMI  Age BMI_Category_Num Age_Group_Num  Risk_Score  Outcome\n",
       "0    148.0  33.6   50                3             2    0.508512        1\n",
       "1     85.0  26.6   31                2             1    0.233531        0\n",
       "2    183.0  23.3   32                1             1    0.467481        1\n",
       "3     89.0  28.1   21                2             0    0.219722        0\n",
       "4    137.0  43.1   33                3             1    0.449087        1"
      ]
     },
     "execution_count": 5,
     "metadata": {},
     "output_type": "execute_result"
    }
   ],
   "source": [
    "# Handle zero values (potential missing values in medical data)\n",
    "print(\"🔧 FEATURE ENGINEERING\")\n",
    "print(\"=\" * 50)\n",
    "\n",
    "# Features that shouldn't have zero values in medical context\n",
    "zero_not_accepted = ['Glucose', 'BloodPressure', 'SkinThickness', 'Insulin', 'BMI']\n",
    "\n",
    "print(\"\\n🔍 Checking for zero values (potential missing data):\")\n",
    "df_processed = df.copy()\n",
    "\n",
    "for feature in zero_not_accepted:\n",
    "    if feature in df_processed.columns:\n",
    "        zero_count = (df_processed[feature] == 0).sum()\n",
    "        zero_percentage = (zero_count / len(df_processed)) * 100\n",
    "        \n",
    "        if zero_count > 0:\n",
    "            print(f\"{feature}: {zero_count} zeros ({zero_percentage:.1f}%)\")\n",
    "            \n",
    "            # Replace zeros with median of non-zero values\n",
    "            median_value = df_processed[df_processed[feature] != 0][feature].median()\n",
    "            df_processed[feature] = df_processed[feature].replace(0, median_value)\n",
    "            print(f\"  → Replaced with median: {median_value:.2f}\")\n",
    "        else:\n",
    "            print(f\"{feature}: ✅ No zero values\")\n",
    "\n",
    "print(f\"\\n📊 Dataset shape after preprocessing: {df_processed.shape}\")\n",
    "\n",
    "# Create new features (Feature Engineering)\n",
    "print(\"\\n🛠️ Creating new features:\")\n",
    "\n",
    "# 1. BMI Categories\n",
    "df_processed['BMI_Category'] = pd.cut(df_processed['BMI'], \n",
    "                                    bins=[0, 18.5, 25, 30, 100], \n",
    "                                    labels=['Underweight', 'Normal', 'Overweight', 'Obese'])\n",
    "\n",
    "# Convert categorical to numerical\n",
    "bmi_mapping = {'Underweight': 0, 'Normal': 1, 'Overweight': 2, 'Obese': 3}\n",
    "df_processed['BMI_Category_Num'] = df_processed['BMI_Category'].map(bmi_mapping)\n",
    "\n",
    "# 2. Age Groups\n",
    "df_processed['Age_Group'] = pd.cut(df_processed['Age'], \n",
    "                                 bins=[0, 30, 40, 50, 100], \n",
    "                                 labels=['Young', 'Adult', 'Middle', 'Senior'])\n",
    "\n",
    "age_mapping = {'Young': 0, 'Adult': 1, 'Middle': 2, 'Senior': 3}\n",
    "df_processed['Age_Group_Num'] = df_processed['Age_Group'].map(age_mapping)\n",
    "\n",
    "# 3. Glucose Categories (based on medical standards)\n",
    "df_processed['Glucose_Category'] = pd.cut(df_processed['Glucose'], \n",
    "                                        bins=[0, 100, 126, 200], \n",
    "                                        labels=['Normal', 'Prediabetic', 'Diabetic'])\n",
    "\n",
    "glucose_mapping = {'Normal': 0, 'Prediabetic': 1, 'Diabetic': 2}\n",
    "df_processed['Glucose_Category_Num'] = df_processed['Glucose_Category'].map(glucose_mapping)\n",
    "\n",
    "# 4. Blood Pressure Categories\n",
    "df_processed['BP_Category'] = pd.cut(df_processed['BloodPressure'], \n",
    "                                   bins=[0, 80, 90, 140], \n",
    "                                   labels=['Normal', 'High_Normal', 'High'])\n",
    "\n",
    "bp_mapping = {'Normal': 0, 'High_Normal': 1, 'High': 2}\n",
    "df_processed['BP_Category_Num'] = df_processed['BP_Category'].map(bp_mapping)\n",
    "\n",
    "# 5. Risk Score (combination of multiple factors)\n",
    "# Normalize features to 0-1 scale for risk calculation\n",
    "risk_features = ['Glucose', 'BMI', 'Age', 'BloodPressure']\n",
    "for feature in risk_features:\n",
    "    min_val = df_processed[feature].min()\n",
    "    max_val = df_processed[feature].max()\n",
    "    df_processed[f'{feature}_Normalized'] = (df_processed[feature] - min_val) / (max_val - min_val)\n",
    "\n",
    "# Calculate composite risk score\n",
    "df_processed['Risk_Score'] = (\n",
    "    0.4 * df_processed['Glucose_Normalized'] +\n",
    "    0.3 * df_processed['BMI_Normalized'] + \n",
    "    0.2 * df_processed['Age_Normalized'] +\n",
    "    0.1 * df_processed['BloodPressure_Normalized']\n",
    ")\n",
    "\n",
    "# 6. Interaction features\n",
    "df_processed['BMI_Age_Interaction'] = df_processed['BMI'] * df_processed['Age']\n",
    "df_processed['Glucose_BMI_Interaction'] = df_processed['Glucose'] * df_processed['BMI']\n",
    "\n",
    "print(f\"✅ Created {len([col for col in df_processed.columns if col not in df.columns])} new features\")\n",
    "\n",
    "# Display new features\n",
    "new_features = [col for col in df_processed.columns if col not in df.columns and not col.endswith('_Normalized')]\n",
    "print(f\"New features: {new_features}\")\n",
    "\n",
    "# Show sample of processed data\n",
    "print(f\"\\n📋 Sample of processed data:\")\n",
    "df_processed[['Glucose', 'BMI', 'Age', 'BMI_Category_Num', 'Age_Group_Num', 'Risk_Score', 'Outcome']].head()"
   ]
  },
  {
   "cell_type": "markdown",
   "id": "0282f746",
   "metadata": {},
   "source": [
    "## 🔄 4. Data Splitting & Preprocessing\n",
    "\n",
    "Chia dữ liệu và chuẩn bị cho model training."
   ]
  },
  {
   "cell_type": "code",
   "execution_count": 6,
   "id": "0a1c0f1c",
   "metadata": {},
   "outputs": [
    {
     "name": "stdout",
     "output_type": "stream",
     "text": [
      "🔄 DATA SPLITTING & PREPROCESSING\n",
      "============================================================\n",
      "📊 Features shape: (768, 8)\n",
      "🎯 Target shape: (768,)\n",
      "\n",
      "🔍 Missing values per feature:\n",
      "Pregnancies                 0\n",
      "Glucose                     0\n",
      "BloodPressure               0\n",
      "SkinThickness               0\n",
      "Insulin                     0\n",
      "BMI                         0\n",
      "DiabetesPedigreeFunction    0\n",
      "Age                         0\n",
      "dtype: int64\n",
      "\n",
      "✅ No missing values found\n",
      "\n",
      "📋 Data splitting results:\n",
      "Training set: 614 samples\n",
      "Test set: 154 samples\n",
      "Train class distribution: {0: 400, 1: 214}\n",
      "Test class distribution: {0: 100, 1: 54}\n",
      "\n",
      "🔧 Feature Scaling:\n",
      "✅ Features scaled using StandardScaler\n",
      "Training set (scaled): (614, 8)\n",
      "Test set (scaled): (154, 8)\n",
      "\n",
      "📈 Original vs Scaled Statistics:\n",
      "Original - Mean: 55.649, Std: 18.922\n",
      "Scaled   - Mean: 0.000, Std: 1.001\n"
     ]
    }
   ],
   "source": [
    "from sklearn.model_selection import train_test_split\n",
    "from sklearn.preprocessing import StandardScaler, MinMaxScaler, RobustScaler\n",
    "from sklearn.impute import SimpleImputer\n",
    "import warnings\n",
    "warnings.filterwarnings('ignore')\n",
    "\n",
    "print(\"🔄 DATA SPLITTING & PREPROCESSING\")\n",
    "print(\"=\" * 60)\n",
    "\n",
    "# Separate features and target\n",
    "X = df.drop('Outcome', axis=1)\n",
    "y = df['Outcome']\n",
    "\n",
    "print(f\"📊 Features shape: {X.shape}\")\n",
    "print(f\"🎯 Target shape: {y.shape}\")\n",
    "\n",
    "# Check for missing values\n",
    "missing_values = X.isnull().sum()\n",
    "print(f\"\\n🔍 Missing values per feature:\")\n",
    "print(missing_values)\n",
    "\n",
    "# Handle missing values if any\n",
    "if missing_values.sum() > 0:\n",
    "    print(\"\\n🔧 Handling missing values with median imputation...\")\n",
    "    imputer = SimpleImputer(strategy='median')\n",
    "    X_imputed = imputer.fit_transform(X)\n",
    "    X = pd.DataFrame(X_imputed, columns=X.columns)\n",
    "else:\n",
    "    print(\"\\n✅ No missing values found\")\n",
    "\n",
    "# Split the data\n",
    "X_train, X_test, y_train, y_test = train_test_split(\n",
    "    X, y, test_size=0.2, random_state=42, stratify=y\n",
    ")\n",
    "\n",
    "print(f\"\\n📋 Data splitting results:\")\n",
    "print(f\"Training set: {X_train.shape[0]} samples\")\n",
    "print(f\"Test set: {X_test.shape[0]} samples\")\n",
    "print(f\"Train class distribution: {y_train.value_counts().to_dict()}\")\n",
    "print(f\"Test class distribution: {y_test.value_counts().to_dict()}\")\n",
    "\n",
    "# Feature scaling\n",
    "print(f\"\\n🔧 Feature Scaling:\")\n",
    "scalers = {\n",
    "    'standard': StandardScaler(),\n",
    "    'minmax': MinMaxScaler(),\n",
    "    'robust': RobustScaler()\n",
    "}\n",
    "\n",
    "# We'll use StandardScaler for now\n",
    "scaler = StandardScaler()\n",
    "X_train_scaled = scaler.fit_transform(X_train)\n",
    "X_test_scaled = scaler.transform(X_test)\n",
    "\n",
    "# Convert back to DataFrame for easier handling\n",
    "X_train_scaled = pd.DataFrame(X_train_scaled, columns=X.columns)\n",
    "X_test_scaled = pd.DataFrame(X_test_scaled, columns=X.columns)\n",
    "\n",
    "print(f\"✅ Features scaled using StandardScaler\")\n",
    "print(f\"Training set (scaled): {X_train_scaled.shape}\")\n",
    "print(f\"Test set (scaled): {X_test_scaled.shape}\")\n",
    "\n",
    "# Display scaling statistics\n",
    "print(f\"\\n📈 Original vs Scaled Statistics:\")\n",
    "print(f\"Original - Mean: {X_train.mean().mean():.3f}, Std: {X_train.std().mean():.3f}\")\n",
    "print(f\"Scaled   - Mean: {X_train_scaled.mean().mean():.3f}, Std: {X_train_scaled.std().mean():.3f}\")"
   ]
  },
  {
   "cell_type": "markdown",
   "id": "cf8fdd26",
   "metadata": {},
   "source": [
    "## 🤖 5. Model Definition & Configuration\n",
    "\n",
    "Định nghĩa và cấu hình các machine learning models để training."
   ]
  },
  {
   "cell_type": "code",
   "execution_count": 7,
   "id": "899ae223",
   "metadata": {},
   "outputs": [
    {
     "name": "stdout",
     "output_type": "stream",
     "text": [
      "🤖 MODEL DEFINITION & CONFIGURATION\n",
      "============================================================\n",
      "📊 Total models configured: 16\n",
      "\n",
      "🎯 Model Categories:\n",
      "• Linear Models: 4\n",
      "• Tree-based Models: 3\n",
      "• Boosting Models: 2-5 (depending on installations)\n",
      "• Instance-based: 1\n",
      "• Kernel Methods: 1\n",
      "• Probabilistic: 1\n",
      "• Neural Networks: 1\n",
      "\n",
      "📋 Available Models:\n",
      " 1. Logistic Regression\n",
      " 2. Ridge Classifier\n",
      " 3. Linear Discriminant\n",
      " 4. Quadratic Discriminant\n",
      " 5. Decision Tree\n",
      " 6. Random Forest\n",
      " 7. Extra Trees\n",
      " 8. Gradient Boosting\n",
      " 9. AdaBoost\n",
      "10. XGBoost\n",
      "11. LightGBM\n",
      "12. CatBoost\n",
      "13. K-Nearest Neighbors\n",
      "14. Support Vector Machine\n",
      "15. Naive Bayes\n",
      "16. Neural Network\n",
      "\n",
      "✅ All models ready for training!\n"
     ]
    }
   ],
   "source": [
    "# Import all necessary models\n",
    "from sklearn.ensemble import RandomForestClassifier, GradientBoostingClassifier, AdaBoostClassifier, ExtraTreesClassifier\n",
    "from sklearn.linear_model import LogisticRegression, RidgeClassifier, Lasso\n",
    "from sklearn.svm import SVC\n",
    "from sklearn.neighbors import KNeighborsClassifier\n",
    "from sklearn.tree import DecisionTreeClassifier\n",
    "from sklearn.naive_bayes import GaussianNB\n",
    "from sklearn.neural_network import MLPClassifier\n",
    "from sklearn.discriminant_analysis import LinearDiscriminantAnalysis, QuadraticDiscriminantAnalysis\n",
    "\n",
    "# Try to import advanced models (might need installation)\n",
    "try:\n",
    "    import xgboost as xgb\n",
    "    XGBOOST_AVAILABLE = True\n",
    "except ImportError:\n",
    "    XGBOOST_AVAILABLE = False\n",
    "    print(\"⚠️  XGBoost not available, skipping...\")\n",
    "\n",
    "try:\n",
    "    import lightgbm as lgb\n",
    "    LIGHTGBM_AVAILABLE = True\n",
    "except ImportError:\n",
    "    LIGHTGBM_AVAILABLE = False\n",
    "    print(\"⚠️  LightGBM not available, skipping...\")\n",
    "\n",
    "try:\n",
    "    from catboost import CatBoostClassifier\n",
    "    CATBOOST_AVAILABLE = True\n",
    "except ImportError:\n",
    "    CATBOOST_AVAILABLE = False\n",
    "    print(\"⚠️  CatBoost not available, skipping...\")\n",
    "\n",
    "print(\"🤖 MODEL DEFINITION & CONFIGURATION\")\n",
    "print(\"=\" * 60)\n",
    "\n",
    "# Define comprehensive model collection\n",
    "models = {}\n",
    "\n",
    "# 1. Linear Models\n",
    "models['Logistic Regression'] = LogisticRegression(random_state=42, max_iter=1000)\n",
    "models['Ridge Classifier'] = RidgeClassifier(random_state=42)\n",
    "models['Linear Discriminant'] = LinearDiscriminantAnalysis()\n",
    "models['Quadratic Discriminant'] = QuadraticDiscriminantAnalysis()\n",
    "\n",
    "# 2. Tree-based Models\n",
    "models['Decision Tree'] = DecisionTreeClassifier(random_state=42)\n",
    "models['Random Forest'] = RandomForestClassifier(\n",
    "    n_estimators=100, random_state=42, n_jobs=-1\n",
    ")\n",
    "models['Extra Trees'] = ExtraTreesClassifier(\n",
    "    n_estimators=100, random_state=42, n_jobs=-1\n",
    ")\n",
    "\n",
    "# 3. Boosting Models\n",
    "models['Gradient Boosting'] = GradientBoostingClassifier(random_state=42)\n",
    "models['AdaBoost'] = AdaBoostClassifier(random_state=42)\n",
    "\n",
    "# 4. Advanced Gradient Boosting (if available)\n",
    "if XGBOOST_AVAILABLE:\n",
    "    models['XGBoost'] = xgb.XGBClassifier(\n",
    "        random_state=42, eval_metric='logloss', verbosity=0\n",
    "    )\n",
    "\n",
    "if LIGHTGBM_AVAILABLE:\n",
    "    models['LightGBM'] = lgb.LGBMClassifier(\n",
    "        random_state=42, verbosity=-1\n",
    "    )\n",
    "\n",
    "if CATBOOST_AVAILABLE:\n",
    "    models['CatBoost'] = CatBoostClassifier(\n",
    "        random_state=42, verbose=False\n",
    "    )\n",
    "\n",
    "# 5. Instance-based Models\n",
    "models['K-Nearest Neighbors'] = KNeighborsClassifier(n_neighbors=5)\n",
    "\n",
    "# 6. Kernel Methods\n",
    "models['Support Vector Machine'] = SVC(random_state=42, probability=True)\n",
    "\n",
    "# 7. Probabilistic Models\n",
    "models['Naive Bayes'] = GaussianNB()\n",
    "\n",
    "# 8. Neural Network\n",
    "models['Neural Network'] = MLPClassifier(\n",
    "    hidden_layer_sizes=(100,), random_state=42, max_iter=500\n",
    ")\n",
    "\n",
    "print(f\"📊 Total models configured: {len(models)}\")\n",
    "print(\"\\n🎯 Model Categories:\")\n",
    "print(\"• Linear Models: 4\")\n",
    "print(\"• Tree-based Models: 3\") \n",
    "print(\"• Boosting Models: 2-5 (depending on installations)\")\n",
    "print(\"• Instance-based: 1\")\n",
    "print(\"• Kernel Methods: 1\")\n",
    "print(\"• Probabilistic: 1\")\n",
    "print(\"• Neural Networks: 1\")\n",
    "\n",
    "print(f\"\\n📋 Available Models:\")\n",
    "for i, (name, model) in enumerate(models.items(), 1):\n",
    "    print(f\"{i:2d}. {name}\")\n",
    "\n",
    "print(f\"\\n✅ All models ready for training!\")"
   ]
  },
  {
   "cell_type": "markdown",
   "id": "5833c8a5",
   "metadata": {},
   "source": [
    "## 🏋️ 6. Model Training & Cross-Validation\n",
    "\n",
    "Training tất cả models và đánh giá performance bằng cross-validation."
   ]
  },
  {
   "cell_type": "code",
   "execution_count": 8,
   "id": "ea157711",
   "metadata": {},
   "outputs": [
    {
     "name": "stdout",
     "output_type": "stream",
     "text": [
      "🏋️ MODEL TRAINING & CROSS-VALIDATION\n",
      "============================================================\n",
      "🔄 Training 16 models with 5-fold cross-validation...\n",
      "📊 Metrics: Accuracy, Precision, Recall, F1-Score, ROC-AUC\n",
      "--------------------------------------------------------------------------------\n",
      "Training Logistic Regression... ✅ (6.72s)\n",
      "Training Ridge Classifier... ✅ (0.12s)\n",
      "Training Linear Discriminant... ✅ (6.72s)\n",
      "Training Ridge Classifier... ✅ (0.12s)\n",
      "Training Linear Discriminant... ✅ (0.12s)\n",
      "Training Quadratic Discriminant... ✅ (0.10s)\n",
      "Training Decision Tree... ✅ (0.12s)\n",
      "Training Quadratic Discriminant... ✅ (0.10s)\n",
      "Training Decision Tree... ✅ (0.22s)\n",
      "Training Random Forest... ✅ (0.22s)\n",
      "Training Random Forest... ✅ (1.44s)\n",
      "Training Extra Trees... ✅ (1.44s)\n",
      "Training Extra Trees... ✅ (1.09s)\n",
      "Training Gradient Boosting... ✅ (1.09s)\n",
      "Training Gradient Boosting... ✅ (0.92s)\n",
      "Training AdaBoost... ✅ (0.92s)\n",
      "Training AdaBoost... ✅ (0.53s)\n",
      "Training XGBoost... ✅ (0.53s)\n",
      "Training XGBoost... ✅ (0.43s)\n",
      "Training LightGBM... ✅ (0.43s)\n",
      "Training LightGBM... ✅ (10.65s)\n",
      "Training CatBoost... ✅ (10.65s)\n",
      "Training CatBoost... ✅ (15.99s)\n",
      "Training K-Nearest Neighbors... ✅ (0.12s)\n",
      "Training Support Vector Machine... ✅ (15.99s)\n",
      "Training K-Nearest Neighbors... ✅ (0.12s)\n",
      "Training Support Vector Machine... ✅ (0.29s)\n",
      "Training Naive Bayes... ✅ (0.10s)\n",
      "Training Neural Network... ✅ (0.29s)\n",
      "Training Naive Bayes... ✅ (0.10s)\n",
      "Training Neural Network... ✅ (4.35s)\n",
      "\n",
      "📊 CROSS-VALIDATION RESULTS SUMMARY\n",
      "================================================================================\n",
      "Model                Accuracy     Precision    Recall       F1-Score     ROC-AUC      Time(s) \n",
      "----------------------------------------------------------------------------------------------------\n",
      "Logistic Regression  0.787±0.019  0.754±0.063  0.584±0.016  0.657±0.021  0.844±0.018  6.72    \n",
      "Linear Discriminant  0.787±0.022  0.755±0.061  0.580±0.024  0.655±0.029  0.843±0.019  0.12    \n",
      "Ridge Classifier     0.783±0.016  0.756±0.057  0.565±0.018  0.646±0.018  0.843±0.019  0.12    \n",
      "Support Vector Machine 0.775±0.014  0.740±0.074  0.570±0.061  0.638±0.017  0.832±0.023  0.29    \n",
      "CatBoost             0.767±0.033  0.703±0.085  0.598±0.044  0.642±0.040  0.829±0.028  15.99   \n",
      "Naive Bayes          0.764±0.028  0.691±0.067  0.603±0.049  0.641±0.033  0.829±0.010  0.10    \n",
      "Quadratic Discriminant 0.752±0.017  0.675±0.037  0.566±0.052  0.613±0.032  0.821±0.008  0.10    \n",
      "Neural Network       0.765±0.024  0.684±0.051  0.617±0.055  0.647±0.037  0.818±0.044  4.35    \n",
      "AdaBoost             0.765±0.014  0.704±0.035  0.570±0.053  0.628±0.031  0.817±0.019  0.53    \n",
      "Extra Trees          0.743±0.012  0.666±0.045  0.538±0.041  0.592±0.016  0.816±0.018  1.09    \n",
      "Gradient Boosting    0.743±0.020  0.651±0.049  0.579±0.021  0.611±0.012  0.816±0.018  0.92    \n",
      "Random Forest        0.756±0.023  0.682±0.067  0.579±0.044  0.623±0.026  0.807±0.025  1.44    \n",
      "K-Nearest Neighbors  0.744±0.042  0.661±0.088  0.575±0.059  0.611±0.054  0.794±0.042  0.12    \n",
      "LightGBM             0.733±0.038  0.635±0.071  0.570±0.035  0.599±0.044  0.790±0.034  10.65   \n",
      "XGBoost              0.733±0.031  0.638±0.060  0.551±0.037  0.590±0.041  0.777±0.032  0.43    \n",
      "Decision Tree        0.673±0.021  0.530±0.036  0.584±0.068  0.553±0.031  0.652±0.021  0.22    \n",
      "\n",
      "🏆 TOP 3 MODELS BY ROC-AUC:\n",
      "1. Logistic Regression: 0.8436 (±0.0176)\n",
      "2. Linear Discriminant: 0.8430 (±0.0189)\n",
      "3. Ridge Classifier: 0.8430 (±0.0190)\n",
      "\n",
      "✅ Training completed! 16 models successfully trained.\n",
      "✅ (4.35s)\n",
      "\n",
      "📊 CROSS-VALIDATION RESULTS SUMMARY\n",
      "================================================================================\n",
      "Model                Accuracy     Precision    Recall       F1-Score     ROC-AUC      Time(s) \n",
      "----------------------------------------------------------------------------------------------------\n",
      "Logistic Regression  0.787±0.019  0.754±0.063  0.584±0.016  0.657±0.021  0.844±0.018  6.72    \n",
      "Linear Discriminant  0.787±0.022  0.755±0.061  0.580±0.024  0.655±0.029  0.843±0.019  0.12    \n",
      "Ridge Classifier     0.783±0.016  0.756±0.057  0.565±0.018  0.646±0.018  0.843±0.019  0.12    \n",
      "Support Vector Machine 0.775±0.014  0.740±0.074  0.570±0.061  0.638±0.017  0.832±0.023  0.29    \n",
      "CatBoost             0.767±0.033  0.703±0.085  0.598±0.044  0.642±0.040  0.829±0.028  15.99   \n",
      "Naive Bayes          0.764±0.028  0.691±0.067  0.603±0.049  0.641±0.033  0.829±0.010  0.10    \n",
      "Quadratic Discriminant 0.752±0.017  0.675±0.037  0.566±0.052  0.613±0.032  0.821±0.008  0.10    \n",
      "Neural Network       0.765±0.024  0.684±0.051  0.617±0.055  0.647±0.037  0.818±0.044  4.35    \n",
      "AdaBoost             0.765±0.014  0.704±0.035  0.570±0.053  0.628±0.031  0.817±0.019  0.53    \n",
      "Extra Trees          0.743±0.012  0.666±0.045  0.538±0.041  0.592±0.016  0.816±0.018  1.09    \n",
      "Gradient Boosting    0.743±0.020  0.651±0.049  0.579±0.021  0.611±0.012  0.816±0.018  0.92    \n",
      "Random Forest        0.756±0.023  0.682±0.067  0.579±0.044  0.623±0.026  0.807±0.025  1.44    \n",
      "K-Nearest Neighbors  0.744±0.042  0.661±0.088  0.575±0.059  0.611±0.054  0.794±0.042  0.12    \n",
      "LightGBM             0.733±0.038  0.635±0.071  0.570±0.035  0.599±0.044  0.790±0.034  10.65   \n",
      "XGBoost              0.733±0.031  0.638±0.060  0.551±0.037  0.590±0.041  0.777±0.032  0.43    \n",
      "Decision Tree        0.673±0.021  0.530±0.036  0.584±0.068  0.553±0.031  0.652±0.021  0.22    \n",
      "\n",
      "🏆 TOP 3 MODELS BY ROC-AUC:\n",
      "1. Logistic Regression: 0.8436 (±0.0176)\n",
      "2. Linear Discriminant: 0.8430 (±0.0189)\n",
      "3. Ridge Classifier: 0.8430 (±0.0190)\n",
      "\n",
      "✅ Training completed! 16 models successfully trained.\n"
     ]
    }
   ],
   "source": [
    "from sklearn.model_selection import cross_val_score, StratifiedKFold\n",
    "from sklearn.metrics import classification_report, confusion_matrix, roc_auc_score, roc_curve\n",
    "import time\n",
    "\n",
    "print(\"🏋️ MODEL TRAINING & CROSS-VALIDATION\")\n",
    "print(\"=\" * 60)\n",
    "\n",
    "# Cross-validation setup\n",
    "cv = StratifiedKFold(n_splits=5, shuffle=True, random_state=42)\n",
    "scoring_metrics = ['accuracy', 'precision', 'recall', 'f1', 'roc_auc']\n",
    "\n",
    "# Store results\n",
    "cv_results = {}\n",
    "training_times = {}\n",
    "trained_models = {}\n",
    "\n",
    "print(f\"🔄 Training {len(models)} models with {cv.n_splits}-fold cross-validation...\")\n",
    "print(\"📊 Metrics: Accuracy, Precision, Recall, F1-Score, ROC-AUC\")\n",
    "print(\"-\" * 80)\n",
    "\n",
    "# Train each model\n",
    "for name, model in models.items():\n",
    "    print(f\"Training {name}...\", end=\" \")\n",
    "    \n",
    "    start_time = time.time()\n",
    "    \n",
    "    try:\n",
    "        # Perform cross-validation\n",
    "        scores = {}\n",
    "        for metric in scoring_metrics:\n",
    "            scores[metric] = cross_val_score(\n",
    "                model, X_train_scaled, y_train, \n",
    "                cv=cv, scoring=metric, n_jobs=-1\n",
    "            )\n",
    "        \n",
    "        # Train on full training set for final model\n",
    "        model.fit(X_train_scaled, y_train)\n",
    "        trained_models[name] = model\n",
    "        \n",
    "        # Store results\n",
    "        cv_results[name] = scores\n",
    "        training_time = time.time() - start_time\n",
    "        training_times[name] = training_time\n",
    "        \n",
    "        print(f\"✅ ({training_time:.2f}s)\")\n",
    "        \n",
    "    except Exception as e:\n",
    "        print(f\"❌ Error: {e}\")\n",
    "        continue\n",
    "\n",
    "print(f\"\\n📊 CROSS-VALIDATION RESULTS SUMMARY\")\n",
    "print(\"=\" * 80)\n",
    "\n",
    "# Create results DataFrame\n",
    "results_df = []\n",
    "for name in cv_results:\n",
    "    row = {'Model': name}\n",
    "    for metric in scoring_metrics:\n",
    "        scores = cv_results[name][metric]\n",
    "        row[f'{metric}_mean'] = scores.mean()\n",
    "        row[f'{metric}_std'] = scores.std()\n",
    "    row['training_time'] = training_times[name]\n",
    "    results_df.append(row)\n",
    "\n",
    "results_df = pd.DataFrame(results_df)\n",
    "\n",
    "# Sort by ROC-AUC score\n",
    "results_df = results_df.sort_values('roc_auc_mean', ascending=False)\n",
    "\n",
    "# Display results\n",
    "print(f\"{'Model':<20} {'Accuracy':<12} {'Precision':<12} {'Recall':<12} {'F1-Score':<12} {'ROC-AUC':<12} {'Time(s)':<8}\")\n",
    "print(\"-\" * 100)\n",
    "\n",
    "for _, row in results_df.iterrows():\n",
    "    name = row['Model']\n",
    "    acc = f\"{row['accuracy_mean']:.3f}±{row['accuracy_std']:.3f}\"\n",
    "    prec = f\"{row['precision_mean']:.3f}±{row['precision_std']:.3f}\"\n",
    "    rec = f\"{row['recall_mean']:.3f}±{row['recall_std']:.3f}\"\n",
    "    f1 = f\"{row['f1_mean']:.3f}±{row['f1_std']:.3f}\"\n",
    "    auc = f\"{row['roc_auc_mean']:.3f}±{row['roc_auc_std']:.3f}\"\n",
    "    time_str = f\"{row['training_time']:.2f}\"\n",
    "    \n",
    "    print(f\"{name:<20} {acc:<12} {prec:<12} {rec:<12} {f1:<12} {auc:<12} {time_str:<8}\")\n",
    "\n",
    "# Identify top performers\n",
    "print(f\"\\n🏆 TOP 3 MODELS BY ROC-AUC:\")\n",
    "top_3 = results_df.head(3)\n",
    "for i, (_, row) in enumerate(top_3.iterrows(), 1):\n",
    "    print(f\"{i}. {row['Model']}: {row['roc_auc_mean']:.4f} (±{row['roc_auc_std']:.4f})\")\n",
    "\n",
    "print(f\"\\n✅ Training completed! {len(trained_models)} models successfully trained.\")"
   ]
  },
  {
   "cell_type": "markdown",
   "id": "14a4601d",
   "metadata": {},
   "source": [
    "## 📊 7. Model Evaluation & Visualization\n",
    "\n",
    "Đánh giá chi tiết performance của models trên test set."
   ]
  },
  {
   "cell_type": "code",
   "execution_count": 9,
   "id": "748c4a6e",
   "metadata": {},
   "outputs": [
    {
     "name": "stdout",
     "output_type": "stream",
     "text": [
      "📊 MODEL EVALUATION & VISUALIZATION\n",
      "============================================================\n",
      "🎯 Evaluating top 3 models on test set:\n",
      "• Logistic Regression\n",
      "• Linear Discriminant\n",
      "• Ridge Classifier\n",
      "\n",
      "================================================================================\n",
      "\n",
      "🔍 DETAILED EVALUATION: Logistic Regression\n",
      "------------------------------------------------------------\n",
      "Accuracy:  0.6948\n",
      "Precision: 0.5778\n",
      "Recall:    0.4815\n",
      "F1-Score:  0.5253\n",
      "ROC-AUC:   0.8117\n",
      "\n",
      "Confusion Matrix:\n",
      "              Predicted\n",
      "Actual    0    1\n",
      "   0     81   19\n",
      "   1     28   26\n",
      "\n",
      "Classification Report:\n",
      "              precision    recall  f1-score   support\n",
      "\n",
      "           0       0.74      0.81      0.78       100\n",
      "           1       0.58      0.48      0.53        54\n",
      "\n",
      "    accuracy                           0.69       154\n",
      "   macro avg       0.66      0.65      0.65       154\n",
      "weighted avg       0.69      0.69      0.69       154\n",
      "\n",
      "\n",
      "🔍 DETAILED EVALUATION: Linear Discriminant\n",
      "------------------------------------------------------------\n",
      "Accuracy:  0.6948\n",
      "Precision: 0.5778\n",
      "Recall:    0.4815\n",
      "F1-Score:  0.5253\n",
      "ROC-AUC:   0.8113\n",
      "\n",
      "Confusion Matrix:\n",
      "              Predicted\n",
      "Actual    0    1\n",
      "   0     81   19\n",
      "   1     28   26\n",
      "\n",
      "Classification Report:\n",
      "              precision    recall  f1-score   support\n",
      "\n",
      "           0       0.74      0.81      0.78       100\n",
      "           1       0.58      0.48      0.53        54\n",
      "\n",
      "    accuracy                           0.69       154\n",
      "   macro avg       0.66      0.65      0.65       154\n",
      "weighted avg       0.69      0.69      0.69       154\n",
      "\n",
      "\n",
      "🔍 DETAILED EVALUATION: Ridge Classifier\n",
      "------------------------------------------------------------\n",
      "Accuracy:  0.7013\n",
      "Precision: 0.5909\n",
      "Recall:    0.4815\n",
      "F1-Score:  0.5306\n",
      "\n",
      "Confusion Matrix:\n",
      "              Predicted\n",
      "Actual    0    1\n",
      "   0     82   18\n",
      "   1     28   26\n",
      "\n",
      "Classification Report:\n",
      "              precision    recall  f1-score   support\n",
      "\n",
      "           0       0.75      0.82      0.78       100\n",
      "           1       0.59      0.48      0.53        54\n",
      "\n",
      "    accuracy                           0.70       154\n",
      "   macro avg       0.67      0.65      0.66       154\n",
      "weighted avg       0.69      0.70      0.69       154\n",
      "\n",
      "\n",
      "📈 CREATING PERFORMANCE VISUALIZATIONS\n",
      "------------------------------------------------------------\n"
     ]
    },
    {
     "data": {
      "image/png": "[encoded data removed]",
      "text/plain": [
       "<Figure size 1800x1200 with 9 Axes>"
      ]
     },
     "metadata": {},
     "output_type": "display_data"
    },
    {
     "name": "stdout",
     "output_type": "stream",
     "text": [
      "✅ Evaluation completed for 3 models!\n"
     ]
    }
   ],
   "source": [
    "from sklearn.metrics import accuracy_score, precision_score, recall_score, f1_score\n",
    "from sklearn.metrics import confusion_matrix, classification_report\n",
    "import matplotlib.pyplot as plt\n",
    "import seaborn as sns\n",
    "\n",
    "print(\"📊 MODEL EVALUATION & VISUALIZATION\")\n",
    "print(\"=\" * 60)\n",
    "\n",
    "# Evaluate top 3 models on test set\n",
    "top_3_models = results_df.head(3)['Model'].tolist()\n",
    "\n",
    "print(f\"🎯 Evaluating top 3 models on test set:\")\n",
    "for model_name in top_3_models:\n",
    "    print(f\"• {model_name}\")\n",
    "\n",
    "print(\"\\n\" + \"=\" * 80)\n",
    "\n",
    "test_results = {}\n",
    "\n",
    "# Detailed evaluation for each top model\n",
    "for model_name in top_3_models:\n",
    "    print(f\"\\n🔍 DETAILED EVALUATION: {model_name}\")\n",
    "    print(\"-\" * 60)\n",
    "    \n",
    "    model = trained_models[model_name]\n",
    "    \n",
    "    # Predictions\n",
    "    y_pred = model.predict(X_test_scaled)\n",
    "    y_prob = model.predict_proba(X_test_scaled)[:, 1] if hasattr(model, \"predict_proba\") else None\n",
    "    \n",
    "    # Calculate metrics\n",
    "    accuracy = accuracy_score(y_test, y_pred)\n",
    "    precision = precision_score(y_test, y_pred)\n",
    "    recall = recall_score(y_test, y_pred)\n",
    "    f1 = f1_score(y_test, y_pred)\n",
    "    \n",
    "    if y_prob is not None:\n",
    "        auc_score = roc_auc_score(y_test, y_prob)\n",
    "    else:\n",
    "        auc_score = None\n",
    "    \n",
    "    # Store results\n",
    "    test_results[model_name] = {\n",
    "        'accuracy': accuracy,\n",
    "        'precision': precision,\n",
    "        'recall': recall,\n",
    "        'f1_score': f1,\n",
    "        'roc_auc': auc_score,\n",
    "        'y_pred': y_pred,\n",
    "        'y_prob': y_prob\n",
    "    }\n",
    "    \n",
    "    # Print metrics\n",
    "    print(f\"Accuracy:  {accuracy:.4f}\")\n",
    "    print(f\"Precision: {precision:.4f}\")\n",
    "    print(f\"Recall:    {recall:.4f}\")\n",
    "    print(f\"F1-Score:  {f1:.4f}\")\n",
    "    if auc_score:\n",
    "        print(f\"ROC-AUC:   {auc_score:.4f}\")\n",
    "    \n",
    "    # Confusion Matrix\n",
    "    cm = confusion_matrix(y_test, y_pred)\n",
    "    print(f\"\\nConfusion Matrix:\")\n",
    "    print(f\"              Predicted\")\n",
    "    print(f\"Actual    0    1\")\n",
    "    print(f\"   0    {cm[0,0]:3d}  {cm[0,1]:3d}\")\n",
    "    print(f\"   1    {cm[1,0]:3d}  {cm[1,1]:3d}\")\n",
    "    \n",
    "    # Classification Report\n",
    "    print(f\"\\nClassification Report:\")\n",
    "    print(classification_report(y_test, y_pred))\n",
    "\n",
    "# Create visualizations\n",
    "print(f\"\\n📈 CREATING PERFORMANCE VISUALIZATIONS\")\n",
    "print(\"-\" * 60)\n",
    "\n",
    "# Set up the plotting style\n",
    "plt.style.use('default')\n",
    "fig, axes = plt.subplots(2, 3, figsize=(18, 12))\n",
    "fig.suptitle('Model Performance Analysis', fontsize=16, fontweight='bold')\n",
    "\n",
    "# 1. Test Set Accuracy Comparison\n",
    "ax1 = axes[0, 0]\n",
    "model_names = [name for name in top_3_models if name in test_results]\n",
    "accuracies = [test_results[name]['accuracy'] for name in model_names]\n",
    "\n",
    "bars = ax1.bar(range(len(model_names)), accuracies, \n",
    "               color=['#2E86C1', '#28B463', '#F39C12'])\n",
    "ax1.set_title('Test Set Accuracy', fontweight='bold')\n",
    "ax1.set_ylabel('Accuracy')\n",
    "ax1.set_xticks(range(len(model_names)))\n",
    "ax1.set_xticklabels(model_names, rotation=45, ha='right')\n",
    "ax1.set_ylim([0.7, 1.0])\n",
    "\n",
    "# Add value labels on bars\n",
    "for i, (bar, acc) in enumerate(zip(bars, accuracies)):\n",
    "    ax1.text(bar.get_x() + bar.get_width()/2, bar.get_height() + 0.01, \n",
    "             f'{acc:.3f}', ha='center', va='bottom', fontweight='bold')\n",
    "\n",
    "# 2. Metrics Comparison\n",
    "ax2 = axes[0, 1]\n",
    "metrics = ['accuracy', 'precision', 'recall', 'f1_score']\n",
    "metric_labels = ['Accuracy', 'Precision', 'Recall', 'F1-Score']\n",
    "\n",
    "x = np.arange(len(metrics))\n",
    "width = 0.25\n",
    "\n",
    "for i, model_name in enumerate(model_names):\n",
    "    if model_name in test_results:\n",
    "        values = [test_results[model_name][metric] for metric in metrics]\n",
    "        ax2.bar(x + i*width, values, width, label=model_name, alpha=0.8)\n",
    "\n",
    "ax2.set_title('Metrics Comparison', fontweight='bold')\n",
    "ax2.set_ylabel('Score')\n",
    "ax2.set_xticks(x + width)\n",
    "ax2.set_xticklabels(metric_labels)\n",
    "ax2.legend()\n",
    "ax2.set_ylim([0.6, 1.0])\n",
    "\n",
    "# 3. ROC Curves\n",
    "ax3 = axes[0, 2]\n",
    "colors = ['#2E86C1', '#28B463', '#F39C12']\n",
    "\n",
    "for i, model_name in enumerate(model_names):\n",
    "    if model_name in test_results and test_results[model_name]['y_prob'] is not None:\n",
    "        y_prob = test_results[model_name]['y_prob']\n",
    "        fpr, tpr, _ = roc_curve(y_test, y_prob)\n",
    "        auc_score = test_results[model_name]['roc_auc']\n",
    "        \n",
    "        ax3.plot(fpr, tpr, color=colors[i], linewidth=2,\n",
    "                label=f'{model_name} (AUC = {auc_score:.3f})')\n",
    "\n",
    "ax3.plot([0, 1], [0, 1], 'k--', alpha=0.6, linewidth=1)\n",
    "ax3.set_title('ROC Curves', fontweight='bold')\n",
    "ax3.set_xlabel('False Positive Rate')\n",
    "ax3.set_ylabel('True Positive Rate')\n",
    "ax3.legend()\n",
    "ax3.grid(True, alpha=0.3)\n",
    "\n",
    "# 4-6. Confusion Matrices for top 3 models\n",
    "for i, model_name in enumerate(model_names):\n",
    "    ax = axes[1, i]\n",
    "    if model_name in test_results:\n",
    "        cm = confusion_matrix(y_test, test_results[model_name]['y_pred'])\n",
    "        \n",
    "        sns.heatmap(cm, annot=True, fmt='d', cmap='Blues', ax=ax,\n",
    "                   xticklabels=['No Diabetes', 'Diabetes'],\n",
    "                   yticklabels=['No Diabetes', 'Diabetes'])\n",
    "        ax.set_title(f'Confusion Matrix\\n{model_name}', fontweight='bold')\n",
    "        ax.set_ylabel('Actual')\n",
    "        ax.set_xlabel('Predicted')\n",
    "\n",
    "plt.tight_layout()\n",
    "plt.show()\n",
    "\n",
    "print(f\"✅ Evaluation completed for {len(test_results)} models!\")"
   ]
  },
  {
   "cell_type": "markdown",
   "id": "cdca835f",
   "metadata": {},
   "source": [
    "## ⚡ 8. Hyperparameter Optimization\n",
    "\n",
    "Fine-tuning best performing model để đạt performance tốt nhất."
   ]
  },
  {
   "cell_type": "code",
   "execution_count": 10,
   "id": "c8c4964b",
   "metadata": {},
   "outputs": [
    {
     "name": "stdout",
     "output_type": "stream",
     "text": [
      "⚡ HYPERPARAMETER OPTIMIZATION\n",
      "============================================================\n",
      "🏆 Best performing model: Logistic Regression\n",
      "📊 Current ROC-AUC: 0.8436 (±0.0176)\n",
      "\n",
      "🔍 Optimizing hyperparameters for Logistic Regression...\n",
      "📋 Parameter grid size: 20 combinations\n",
      "🎲 Using RandomizedSearchCV for efficiency (100 iterations)...\n",
      "Fitting 5 folds for each of 20 candidates, totalling 100 fits\n",
      "\n",
      "✅ Optimization completed in 0.11 seconds!\n",
      "\n",
      "🎯 OPTIMIZED MODEL EVALUATION\n",
      "--------------------------------------------------\n",
      "Best parameters: {'solver': 'liblinear', 'penalty': 'l2', 'C': 0.1}\n",
      "Best CV ROC-AUC: 0.8443\n",
      "\n",
      "📊 Test Set Performance (Optimized):\n",
      "Accuracy:  0.7013\n",
      "Precision: 0.5833\n",
      "Recall:    0.5185\n",
      "F1-Score:  0.5490\n",
      "ROC-AUC:   0.8098\n",
      "\n",
      "📈 Improvement over original model:\n",
      "ROC-AUC: 0.8117 → 0.8098 (-0.0019)\n",
      "⚠️  No significant improvement - original model was already well-tuned\n",
      "\n",
      "🏆 FINAL OPTIMIZED MODEL: Logistic Regression\n"
     ]
    }
   ],
   "source": [
    "from sklearn.model_selection import GridSearchCV, RandomizedSearchCV\n",
    "from scipy.stats import randint, uniform\n",
    "import time\n",
    "\n",
    "print(\"⚡ HYPERPARAMETER OPTIMIZATION\")\n",
    "print(\"=\" * 60)\n",
    "\n",
    "# Get the best model from previous results\n",
    "best_model_name = results_df.iloc[0]['Model']\n",
    "print(f\"🏆 Best performing model: {best_model_name}\")\n",
    "print(f\"📊 Current ROC-AUC: {results_df.iloc[0]['roc_auc_mean']:.4f} (±{results_df.iloc[0]['roc_auc_std']:.4f})\")\n",
    "\n",
    "# Define parameter grids for different models\n",
    "param_grids = {\n",
    "    'Random Forest': {\n",
    "        'n_estimators': [100, 200, 300],\n",
    "        'max_depth': [None, 10, 20, 30],\n",
    "        'min_samples_split': [2, 5, 10],\n",
    "        'min_samples_leaf': [1, 2, 4],\n",
    "        'max_features': ['sqrt', 'log2']\n",
    "    },\n",
    "    \n",
    "    'Gradient Boosting': {\n",
    "        'n_estimators': [100, 200, 300],\n",
    "        'learning_rate': [0.01, 0.1, 0.2],\n",
    "        'max_depth': [3, 5, 7],\n",
    "        'subsample': [0.8, 0.9, 1.0]\n",
    "    },\n",
    "    \n",
    "    'Logistic Regression': {\n",
    "        'C': [0.01, 0.1, 1, 10, 100],\n",
    "        'penalty': ['l1', 'l2'],\n",
    "        'solver': ['liblinear', 'saga']\n",
    "    },\n",
    "    \n",
    "    'Support Vector Machine': {\n",
    "        'C': [0.1, 1, 10, 100],\n",
    "        'gamma': ['scale', 'auto', 0.001, 0.01, 0.1, 1],\n",
    "        'kernel': ['rbf', 'linear', 'poly']\n",
    "    },\n",
    "    \n",
    "    'Neural Network': {\n",
    "        'hidden_layer_sizes': [(50,), (100,), (100, 50), (200,), (100, 100)],\n",
    "        'alpha': [0.0001, 0.001, 0.01],\n",
    "        'learning_rate_init': [0.001, 0.01, 0.1]\n",
    "    }\n",
    "}\n",
    "\n",
    "# XGBoost parameters (if available)\n",
    "if XGBOOST_AVAILABLE and 'XGBoost' in param_grids:\n",
    "    param_grids['XGBoost'] = {\n",
    "        'n_estimators': [100, 200, 300],\n",
    "        'learning_rate': [0.01, 0.1, 0.2],\n",
    "        'max_depth': [3, 5, 7],\n",
    "        'subsample': [0.8, 0.9, 1.0],\n",
    "        'colsample_bytree': [0.8, 0.9, 1.0]\n",
    "    }\n",
    "\n",
    "# Check if parameter grid exists for best model\n",
    "if best_model_name not in param_grids:\n",
    "    print(f\"⚠️  No parameter grid defined for {best_model_name}\")\n",
    "    print(\"Using default parameters...\")\n",
    "    optimized_model = trained_models[best_model_name]\n",
    "    optimization_time = 0\n",
    "    best_params = \"Default parameters\"\n",
    "    best_cv_score = results_df.iloc[0]['roc_auc_mean']\n",
    "    \n",
    "else:\n",
    "    print(f\"\\n🔍 Optimizing hyperparameters for {best_model_name}...\")\n",
    "    print(f\"📋 Parameter grid size: {np.prod([len(v) for v in param_grids[best_model_name].values()])} combinations\")\n",
    "    \n",
    "    # Get base model\n",
    "    base_model = None\n",
    "    for name, model in models.items():\n",
    "        if name == best_model_name:\n",
    "            # Create a fresh instance of the model\n",
    "            base_model = type(model)(**{k: v for k, v in model.get_params().items() \n",
    "                                       if k not in param_grids[best_model_name]})\n",
    "            break\n",
    "    \n",
    "    if base_model is None:\n",
    "        print(f\"❌ Could not create base model for {best_model_name}\")\n",
    "        optimized_model = trained_models[best_model_name]\n",
    "    else:\n",
    "        # Use RandomizedSearchCV for efficiency\n",
    "        print(\"🎲 Using RandomizedSearchCV for efficiency (100 iterations)...\")\n",
    "        \n",
    "        start_time = time.time()\n",
    "        \n",
    "        # Randomized search\n",
    "        random_search = RandomizedSearchCV(\n",
    "            estimator=base_model,\n",
    "            param_distributions=param_grids[best_model_name],\n",
    "            n_iter=100,  # Try 100 random combinations\n",
    "            cv=StratifiedKFold(n_splits=5, shuffle=True, random_state=42),\n",
    "            scoring='roc_auc',\n",
    "            n_jobs=-1,\n",
    "            random_state=42,\n",
    "            verbose=1\n",
    "        )\n",
    "        \n",
    "        # Fit the search\n",
    "        random_search.fit(X_train_scaled, y_train)\n",
    "        \n",
    "        optimization_time = time.time() - start_time\n",
    "        \n",
    "        # Get results\n",
    "        optimized_model = random_search.best_estimator_\n",
    "        best_params = random_search.best_params_\n",
    "        best_cv_score = random_search.best_score_\n",
    "        \n",
    "        print(f\"\\n✅ Optimization completed in {optimization_time:.2f} seconds!\")\n",
    "\n",
    "# Evaluate optimized model\n",
    "print(f\"\\n🎯 OPTIMIZED MODEL EVALUATION\")\n",
    "print(\"-\" * 50)\n",
    "\n",
    "print(f\"Best parameters: {best_params}\")\n",
    "print(f\"Best CV ROC-AUC: {best_cv_score:.4f}\")\n",
    "\n",
    "# Test set evaluation\n",
    "y_pred_optimized = optimized_model.predict(X_test_scaled)\n",
    "y_prob_optimized = optimized_model.predict_proba(X_test_scaled)[:, 1] if hasattr(optimized_model, \"predict_proba\") else None\n",
    "\n",
    "# Calculate metrics\n",
    "test_accuracy = accuracy_score(y_test, y_pred_optimized)\n",
    "test_precision = precision_score(y_test, y_pred_optimized)\n",
    "test_recall = recall_score(y_test, y_pred_optimized)\n",
    "test_f1 = f1_score(y_test, y_pred_optimized)\n",
    "test_auc = roc_auc_score(y_test, y_prob_optimized) if y_prob_optimized is not None else None\n",
    "\n",
    "print(f\"\\n📊 Test Set Performance (Optimized):\")\n",
    "print(f\"Accuracy:  {test_accuracy:.4f}\")\n",
    "print(f\"Precision: {test_precision:.4f}\")\n",
    "print(f\"Recall:    {test_recall:.4f}\")\n",
    "print(f\"F1-Score:  {test_f1:.4f}\")\n",
    "if test_auc:\n",
    "    print(f\"ROC-AUC:   {test_auc:.4f}\")\n",
    "\n",
    "# Compare with original model\n",
    "if best_model_name in test_results:\n",
    "    original_auc = test_results[best_model_name]['roc_auc']\n",
    "    if test_auc and original_auc:\n",
    "        improvement = test_auc - original_auc\n",
    "        print(f\"\\n📈 Improvement over original model:\")\n",
    "        print(f\"ROC-AUC: {original_auc:.4f} → {test_auc:.4f} ({improvement:+.4f})\")\n",
    "        \n",
    "        if improvement > 0:\n",
    "            print(\"✅ Optimization successful!\")\n",
    "        else:\n",
    "            print(\"⚠️  No significant improvement - original model was already well-tuned\")\n",
    "\n",
    "print(f\"\\n🏆 FINAL OPTIMIZED MODEL: {best_model_name}\")\n",
    "final_model = optimized_model"
   ]
  },
  {
   "cell_type": "markdown",
   "id": "a16811c3",
   "metadata": {},
   "source": [
    "## 💾 9. Model Selection & Export\n",
    "\n",
    "Lưu model tốt nhất và chuẩn bị cho production deployment."
   ]
  },
  {
   "cell_type": "code",
   "execution_count": 11,
   "id": "9c645b64",
   "metadata": {},
   "outputs": [
    {
     "name": "stdout",
     "output_type": "stream",
     "text": [
      "💾 MODEL SELECTION & EXPORT\n",
      "============================================================\n",
      "📊 Feature Coefficients (Top 5 by absolute value):\n",
      "1. Glucose: 0.9991\n",
      "2. BMI: 0.5662\n",
      "3. Pregnancies: 0.3167\n",
      "4. DiabetesPedigreeFunction: 0.2088\n",
      "5. Age: 0.1502\n",
      "\n",
      "💾 Saving model to: ../models\\diabetes_model_logistic_regression_20251023_210956.joblib\n",
      "✅ Model saved: diabetes_model_logistic_regression_20251023_210956.joblib\n",
      "✅ Scaler saved: scaler_20251023_210956.joblib\n",
      "✅ Metadata saved: model_metadata_20251023_210956.json\n",
      "✅ Production model class saved: diabetes_predictor_20251023_210956.py\n",
      "\n",
      "🧪 Testing saved model...\n",
      "✅ Model loaded successfully!\n",
      "Test prediction: 1 (probability: 0.585)\n",
      "\n",
      "🎉 MODEL TRAINING COMPLETED SUCCESSFULLY!\n",
      "============================================================\n",
      "🏆 Best Model: Logistic Regression\n",
      "📊 Test ROC-AUC: 0.8098\n",
      "📁 Files saved in: ../models/\n",
      "   • Model: diabetes_model_logistic_regression_20251023_210956.joblib\n",
      "   • Scaler: scaler_20251023_210956.joblib\n",
      "   • Metadata: model_metadata_20251023_210956.json\n",
      "   • Production code: diabetes_predictor_20251023_210956.py\n",
      "\n",
      "💡 Ready for integration with backend API!\n"
     ]
    }
   ],
   "source": [
    "import joblib\n",
    "import pickle\n",
    "import json\n",
    "import os\n",
    "from datetime import datetime\n",
    "\n",
    "print(\"💾 MODEL SELECTION & EXPORT\")\n",
    "print(\"=\" * 60)\n",
    "\n",
    "# Create models directory if it doesn't exist\n",
    "models_dir = \"../models\"\n",
    "os.makedirs(models_dir, exist_ok=True)\n",
    "\n",
    "# Prepare model metadata\n",
    "model_metadata = {\n",
    "    \"model_name\": best_model_name,\n",
    "    \"model_type\": type(final_model).__name__,\n",
    "    \"training_date\": datetime.now().isoformat(),\n",
    "    \"dataset_info\": {\n",
    "        \"source\": \"Pima Indians Diabetes Dataset (Cleaned)\",\n",
    "        \"features\": list(X.columns),\n",
    "        \"n_samples\": len(df),\n",
    "        \"n_features\": len(X.columns),\n",
    "        \"target_distribution\": df['Outcome'].value_counts().to_dict()\n",
    "    },\n",
    "    \"performance_metrics\": {\n",
    "        \"cv_roc_auc_mean\": float(best_cv_score),\n",
    "        \"test_accuracy\": float(test_accuracy),\n",
    "        \"test_precision\": float(test_precision),\n",
    "        \"test_recall\": float(test_recall),\n",
    "        \"test_f1_score\": float(test_f1),\n",
    "        \"test_roc_auc\": float(test_auc) if test_auc else None\n",
    "    },\n",
    "    \"hyperparameters\": str(best_params),\n",
    "    \"preprocessing\": {\n",
    "        \"scaler\": \"StandardScaler\",\n",
    "        \"missing_value_strategy\": \"median_imputation\"\n",
    "    },\n",
    "    \"feature_names\": list(X.columns),\n",
    "    \"feature_importance\": None  # Will be filled if model supports it\n",
    "}\n",
    "\n",
    "# Get feature importance if available\n",
    "if hasattr(final_model, 'feature_importances_'):\n",
    "    feature_importance = dict(zip(X.columns, final_model.feature_importances_))\n",
    "    model_metadata[\"feature_importance\"] = {k: float(v) for k, v in feature_importance.items()}\n",
    "    \n",
    "    print(f\"📊 Feature Importance (Top 5):\")\n",
    "    sorted_features = sorted(feature_importance.items(), key=lambda x: x[1], reverse=True)\n",
    "    for i, (feature, importance) in enumerate(sorted_features[:5]):\n",
    "        print(f\"{i+1}. {feature}: {importance:.4f}\")\n",
    "\n",
    "elif hasattr(final_model, 'coef_'):\n",
    "    feature_importance = dict(zip(X.columns, abs(final_model.coef_[0])))\n",
    "    model_metadata[\"feature_importance\"] = {k: float(v) for k, v in feature_importance.items()}\n",
    "    \n",
    "    print(f\"📊 Feature Coefficients (Top 5 by absolute value):\")\n",
    "    sorted_features = sorted(feature_importance.items(), key=lambda x: x[1], reverse=True)\n",
    "    for i, (feature, coef) in enumerate(sorted_features[:5]):\n",
    "        print(f\"{i+1}. {feature}: {coef:.4f}\")\n",
    "\n",
    "# Save the model\n",
    "timestamp = datetime.now().strftime(\"%Y%m%d_%H%M%S\")\n",
    "model_filename = f\"diabetes_model_{best_model_name.lower().replace(' ', '_')}_{timestamp}.joblib\"\n",
    "model_path = os.path.join(models_dir, model_filename)\n",
    "\n",
    "print(f\"\\n💾 Saving model to: {model_path}\")\n",
    "joblib.dump(final_model, model_path)\n",
    "\n",
    "# Save the scaler\n",
    "scaler_filename = f\"scaler_{timestamp}.joblib\"\n",
    "scaler_path = os.path.join(models_dir, scaler_filename)\n",
    "joblib.dump(scaler, scaler_path)\n",
    "\n",
    "# Save model metadata\n",
    "metadata_filename = f\"model_metadata_{timestamp}.json\"\n",
    "metadata_path = os.path.join(models_dir, metadata_filename)\n",
    "with open(metadata_path, 'w') as f:\n",
    "    json.dump(model_metadata, f, indent=2)\n",
    "\n",
    "print(f\"✅ Model saved: {model_filename}\")\n",
    "print(f\"✅ Scaler saved: {scaler_filename}\")\n",
    "print(f\"✅ Metadata saved: {metadata_filename}\")\n",
    "\n",
    "# Create a simple production-ready model class\n",
    "production_model_code = f'''\n",
    "import joblib\n",
    "import numpy as np\n",
    "import pandas as pd\n",
    "from typing import Union, List, Dict\n",
    "\n",
    "class DiabetesPredictor:\n",
    "    \"\"\"\n",
    "    Production-ready diabetes prediction model.\n",
    "    \n",
    "    Features expected (in order):\n",
    "    {list(X.columns)}\n",
    "    \"\"\"\n",
    "    \n",
    "    def __init__(self, model_path: str, scaler_path: str):\n",
    "        \"\"\"Initialize the predictor with model and scaler paths.\"\"\"\n",
    "        self.model = joblib.load(model_path)\n",
    "        self.scaler = joblib.load(scaler_path)\n",
    "        self.feature_names = {list(X.columns)}\n",
    "        \n",
    "    def predict(self, data: Union[Dict, List[Dict], pd.DataFrame, np.ndarray]) -> np.ndarray:\n",
    "        \"\"\"\n",
    "        Predict diabetes probability.\n",
    "        \n",
    "        Args:\n",
    "            data: Input features as dict, list of dicts, DataFrame, or numpy array\n",
    "            \n",
    "        Returns:\n",
    "            numpy array of predictions (0 or 1)\n",
    "        \"\"\"\n",
    "        processed_data = self._preprocess_input(data)\n",
    "        return self.model.predict(processed_data)\n",
    "    \n",
    "    def predict_proba(self, data: Union[Dict, List[Dict], pd.DataFrame, np.ndarray]) -> np.ndarray:\n",
    "        \"\"\"\n",
    "        Predict diabetes probabilities.\n",
    "        \n",
    "        Args:\n",
    "            data: Input features as dict, list of dicts, DataFrame, or numpy array\n",
    "            \n",
    "        Returns:\n",
    "            numpy array of probabilities [prob_no_diabetes, prob_diabetes]\n",
    "        \"\"\"\n",
    "        processed_data = self._preprocess_input(data)\n",
    "        if hasattr(self.model, 'predict_proba'):\n",
    "            return self.model.predict_proba(processed_data)\n",
    "        else:\n",
    "            # Fallback for models without predict_proba\n",
    "            pred = self.model.predict(processed_data)\n",
    "            return np.column_stack([1-pred, pred])\n",
    "    \n",
    "    def _preprocess_input(self, data: Union[Dict, List[Dict], pd.DataFrame, np.ndarray]) -> np.ndarray:\n",
    "        \"\"\"Preprocess input data to match training format.\"\"\"\n",
    "        if isinstance(data, dict):\n",
    "            data = [data]\n",
    "        \n",
    "        if isinstance(data, list):\n",
    "            df = pd.DataFrame(data)\n",
    "        elif isinstance(data, pd.DataFrame):\n",
    "            df = data.copy()\n",
    "        elif isinstance(data, np.ndarray):\n",
    "            df = pd.DataFrame(data, columns=self.feature_names)\n",
    "        else:\n",
    "            raise ValueError(\"Unsupported data type\")\n",
    "        \n",
    "        # Ensure all required features are present\n",
    "        for feature in self.feature_names:\n",
    "            if feature not in df.columns:\n",
    "                raise ValueError(f\"Missing required feature: {{feature}}\")\n",
    "        \n",
    "        # Select and order features correctly\n",
    "        df = df[self.feature_names]\n",
    "        \n",
    "        # Scale the features\n",
    "        scaled_data = self.scaler.transform(df)\n",
    "        \n",
    "        return scaled_data\n",
    "\n",
    "# Example usage:\n",
    "# predictor = DiabetesPredictor('path/to/model.joblib', 'path/to/scaler.joblib')\n",
    "# result = predictor.predict({{\"Pregnancies\": 1, \"Glucose\": 120, \"BloodPressure\": 70, ...}})\n",
    "# probabilities = predictor.predict_proba({{\"Pregnancies\": 1, \"Glucose\": 120, ...}})\n",
    "'''\n",
    "\n",
    "# Save the production model class\n",
    "production_file = os.path.join(models_dir, f\"diabetes_predictor_{timestamp}.py\")\n",
    "with open(production_file, 'w') as f:\n",
    "    f.write(production_model_code)\n",
    "\n",
    "print(f\"✅ Production model class saved: diabetes_predictor_{timestamp}.py\")\n",
    "\n",
    "# Test the saved model by loading and making a prediction\n",
    "print(f\"\\n🧪 Testing saved model...\")\n",
    "loaded_model = joblib.load(model_path)\n",
    "loaded_scaler = joblib.load(scaler_path)\n",
    "\n",
    "# Create a test sample\n",
    "test_sample = X_test_scaled.iloc[0:1]  # First test sample\n",
    "test_prediction = loaded_model.predict(test_sample)\n",
    "test_probability = loaded_model.predict_proba(test_sample)[0][1] if hasattr(loaded_model, 'predict_proba') else None\n",
    "\n",
    "print(f\"✅ Model loaded successfully!\")\n",
    "print(f\"Test prediction: {test_prediction[0]} (probability: {test_probability:.3f})\" if test_probability else f\"Test prediction: {test_prediction[0]}\")\n",
    "\n",
    "# Summary\n",
    "print(f\"\\n🎉 MODEL TRAINING COMPLETED SUCCESSFULLY!\")\n",
    "print(\"=\" * 60)\n",
    "print(f\"🏆 Best Model: {best_model_name}\")\n",
    "print(f\"📊 Test ROC-AUC: {test_auc:.4f}\" if test_auc else f\"📊 Test Accuracy: {test_accuracy:.4f}\")\n",
    "print(f\"📁 Files saved in: {models_dir}/\")\n",
    "print(f\"   • Model: {model_filename}\")\n",
    "print(f\"   • Scaler: {scaler_filename}\")\n",
    "print(f\"   • Metadata: {metadata_filename}\")\n",
    "print(f\"   • Production code: diabetes_predictor_{timestamp}.py\")\n",
    "print(f\"\\n💡 Ready for integration with backend API!\")"
   ]
  },
  {
   "cell_type": "markdown",
   "id": "3866e7d4",
   "metadata": {},
   "source": [
    "## 🎉 Pipeline Hoàn Thành!\n",
    "\n",
    "### 📊 Tổng kết quy trình:\n",
    "1. ✅ Load và explore cleaned dataset\n",
    "2. ✅ Feature engineering và preprocessing  \n",
    "3. ✅ Train/test split\n",
    "4. ✅ Define và train 11 ML models\n",
    "5. ✅ Evaluate và compare models\n",
    "6. ✅ Hyperparameter tuning model tốt nhất\n",
    "7. ✅ Final evaluation và model selection\n",
    "8. ✅ Save model cho production\n",
    "\n",
    "### 🏆 Model đã được lưu vào:\n",
    "- `../models/best_diabetes_model.pkl` - Model tốt nhất\n",
    "- `../models/scaler.pkl` - Scaler để preprocess input\n",
    "- `../models/model_metadata.json` - Thông tin về model\n",
    "\n",
    "### 🚀 Sử dụng model:\n",
    "\n",
    "```python\n",
    "import joblib\n",
    "import numpy as np\n",
    "\n",
    "# Load model\n",
    "model = joblib.load('../models/best_diabetes_model.pkl')\n",
    "scaler = joblib.load('../models/scaler.pkl')\n",
    "\n",
    "# Example prediction\n",
    "sample_input = np.array([[6, 148, 72, 35, 0, 33.6, 0.627, 50]])\n",
    "sample_scaled = scaler.transform(sample_input)\n",
    "prediction = model.predict(sample_scaled)\n",
    "probability = model.predict_proba(sample_scaled)\n",
    "\n",
    "print(f\"Prediction: {'Diabetes' if prediction[0] == 1 else 'No Diabetes'}\")\n",
    "print(f\"Probability: {probability[0][1]:.2%}\")\n",
    "```\n",
    "\n",
    "### 📈 Next Steps:\n",
    "1. Integrate model vào Backend API\n",
    "2. Deploy model lên server\n",
    "3. Tạo monitoring system để track model performance\n",
    "4. Setup retraining pipeline với data mới"
   ]
  }
 ],
 "metadata": {
  "kernelspec": {
   "display_name": ".venv",
   "language": "python",
   "name": "python3"
  },
  "language_info": {
   "codemirror_mode": {
    "name": "ipython",
    "version": 3
   },
   "file_extension": ".py",
   "mimetype": "text/x-python",
   "name": "python",
   "nbconvert_exporter": "python",
   "pygments_lexer": "ipython3",
   "version": "3.13.3"
  }
 },
 "nbformat": 4,
 "nbformat_minor": 5
}
